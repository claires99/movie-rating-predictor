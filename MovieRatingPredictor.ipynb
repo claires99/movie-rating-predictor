{
  "nbformat": 4,
  "nbformat_minor": 0,
  "metadata": {
    "colab": {
      "name": "MovieRatingPredictor.ipynb",
      "provenance": [],
      "collapsed_sections": []
    },
    "kernelspec": {
      "name": "python3",
      "display_name": "Python 3"
    },
    "language_info": {
      "name": "python"
    }
  },
  "cells": [
    {
      "cell_type": "markdown",
      "metadata": {
        "id": "W6rV6jajC_Ht"
      },
      "source": [
        "# E190AV Final Project: Movie Rating Predictor\n",
        "\n",
        "**Claire Chang and Thaxter Shaw**\n",
        "\n",
        "In this notebook, we will use movie ratings and tags (such as “epic”, “medieval”, “Steven Spielberg”, and “lawn mower”) to predict how a reviewer will rate an arbitrary movie based on their pre-existing ratings."
      ]
    },
    {
      "cell_type": "markdown",
      "metadata": {
        "id": "wl0ja9q5y4Yl"
      },
      "source": [
        "We will use data from https://grouplens.org/datasets/movielens/. To begin, we will use the `genome-scores.csv` and `ratings.csv` files from `ml-latest.zip`, which contains “27,000,000 ratings and 1,100,000 tag applications applied to 58,000 movies by 280,000 users,\" along with \"14 million relevance scores across 1,100 tags.\" Later, we can consider using `movies.csv` to recommend movies.\n",
        "\n",
        "*   `genome-scores.csv`: columns of movieId, tagId, and relevance\n",
        "*   `ratings.csv`: columns of userId, movieId, rating, and timestamp\n",
        "*    `movies.csv`: columns of movieId, title, and genres"
      ]
    },
    {
      "cell_type": "code",
      "metadata": {
        "id": "TQPYLCTRC2mR"
      },
      "source": [
        "%matplotlib inline"
      ],
      "execution_count": 1,
      "outputs": []
    },
    {
      "cell_type": "code",
      "metadata": {
        "id": "b88AFHKODmqu",
        "colab": {
          "base_uri": "https://localhost:8080/"
        },
        "outputId": "b5236b8f-7e9f-41b9-86a4-fee975ad6132"
      },
      "source": [
        "import numpy as np\n",
        "import numpy.matlib\n",
        "import librosa as lb\n",
        "import matplotlib.pyplot as plt\n",
        "import pandas as pd\n",
        "import scipy.stats as ss\n",
        "from sklearn.preprocessing import normalize\n",
        "# from sklearn.metrics import confusion_matrix\n",
        "from google.colab import drive\n",
        "drive.mount('/content/drive')"
      ],
      "execution_count": 2,
      "outputs": [
        {
          "output_type": "stream",
          "text": [
            "Mounted at /content/drive\n"
          ],
          "name": "stdout"
        }
      ]
    },
    {
      "cell_type": "code",
      "metadata": {
        "id": "4ifhLZdzVRTg",
        "colab": {
          "base_uri": "https://localhost:8080/"
        },
        "outputId": "4276fca6-3101-45b9-bef8-5b25b94f2ae6"
      },
      "source": [
        "!pip install lenskit\n",
        "from lenskit import crossfold\n",
        "from lenskit.metrics.predict import rmse, mae"
      ],
      "execution_count": 3,
      "outputs": [
        {
          "output_type": "stream",
          "text": [
            "Collecting lenskit\n",
            "\u001b[?25l  Downloading https://files.pythonhosted.org/packages/a5/35/2d052536f880cc5504713d5af69562acea8afa8e1734fd5ef174b950887b/lenskit-0.12.3-py3-none-any.whl (82kB)\n",
            "\u001b[K     |████████████████████████████████| 92kB 3.1MB/s \n",
            "\u001b[?25hRequirement already satisfied: numpy>=1.16 in /usr/local/lib/python3.7/dist-packages (from lenskit) (1.19.5)\n",
            "Requirement already satisfied: cffi>=1.12.2 in /usr/local/lib/python3.7/dist-packages (from lenskit) (1.14.5)\n",
            "Collecting binpickle>=0.3.2\n",
            "  Downloading https://files.pythonhosted.org/packages/4d/e3/7aa8964f808f4e25ef0ff46b4fca7861079aacbbb572743557d6d686c3c6/binpickle-0.3.3-py3-none-any.whl\n",
            "Collecting csr<0.3,>=0.2\n",
            "  Downloading https://files.pythonhosted.org/packages/7b/cf/6f3e70794536754544b2fdbe04166e307e3876094b220354b98b1077508b/csr-0.2.0-py3-none-any.whl\n",
            "Requirement already satisfied: pandas>=0.24 in /usr/local/lib/python3.7/dist-packages (from lenskit) (1.1.5)\n",
            "Requirement already satisfied: pyarrow>=0.15 in /usr/local/lib/python3.7/dist-packages (from lenskit) (3.0.0)\n",
            "Requirement already satisfied: numba<0.53,>=0.51 in /usr/local/lib/python3.7/dist-packages (from lenskit) (0.51.2)\n",
            "Requirement already satisfied: scipy>=1.2 in /usr/local/lib/python3.7/dist-packages (from lenskit) (1.4.1)\n",
            "Requirement already satisfied: pycparser in /usr/local/lib/python3.7/dist-packages (from cffi>=1.12.2->lenskit) (2.20)\n",
            "Requirement already satisfied: msgpack>=1.0 in /usr/local/lib/python3.7/dist-packages (from binpickle>=0.3.2->lenskit) (1.0.2)\n",
            "Collecting pickle5; python_version < \"3.8\"\n",
            "\u001b[?25l  Downloading https://files.pythonhosted.org/packages/f7/4c/5c4dd0462c8d3a6bc4af500a6af240763c2ebd1efdc736fc2c946d44b70a/pickle5-0.0.11.tar.gz (132kB)\n",
            "\u001b[K     |████████████████████████████████| 133kB 15.7MB/s \n",
            "\u001b[?25hRequirement already satisfied: python-dateutil>=2.7.3 in /usr/local/lib/python3.7/dist-packages (from pandas>=0.24->lenskit) (2.8.1)\n",
            "Requirement already satisfied: pytz>=2017.2 in /usr/local/lib/python3.7/dist-packages (from pandas>=0.24->lenskit) (2018.9)\n",
            "Requirement already satisfied: setuptools in /usr/local/lib/python3.7/dist-packages (from numba<0.53,>=0.51->lenskit) (56.1.0)\n",
            "Requirement already satisfied: llvmlite<0.35,>=0.34.0.dev0 in /usr/local/lib/python3.7/dist-packages (from numba<0.53,>=0.51->lenskit) (0.34.0)\n",
            "Requirement already satisfied: six>=1.5 in /usr/local/lib/python3.7/dist-packages (from python-dateutil>=2.7.3->pandas>=0.24->lenskit) (1.15.0)\n",
            "Building wheels for collected packages: pickle5\n",
            "  Building wheel for pickle5 (setup.py) ... \u001b[?25l\u001b[?25hdone\n",
            "  Created wheel for pickle5: filename=pickle5-0.0.11-cp37-cp37m-linux_x86_64.whl size=219253 sha256=8111fa7ce616b0ab1106bbcc54abe02d648a228dcc4bbac4e8110c6d54bb9173\n",
            "  Stored in directory: /root/.cache/pip/wheels/a6/90/95/f889ca4aa8b0e0c7f21c8470b6f5d6032f0390a3a141a9a3bd\n",
            "Successfully built pickle5\n",
            "Installing collected packages: pickle5, binpickle, csr, lenskit\n",
            "Successfully installed binpickle-0.3.3 csr-0.2.0 lenskit-0.12.3 pickle5-0.0.11\n"
          ],
          "name": "stdout"
        }
      ]
    },
    {
      "cell_type": "code",
      "metadata": {
        "id": "j48G7t7WDpqt"
      },
      "source": [
        "# Note: change the directory if necessary, according to your Google Drive file structure\n",
        "rootdir = '/content/drive/My Drive/2020-2021/Spring 2021/ENGR190AV: Signal Processing/Final Project/'"
      ],
      "execution_count": 4,
      "outputs": []
    },
    {
      "cell_type": "markdown",
      "metadata": {
        "id": "Gf1n8teyzTyh"
      },
      "source": [
        "## Process Data"
      ]
    },
    {
      "cell_type": "markdown",
      "metadata": {
        "id": "gwBIZCFGzghN"
      },
      "source": [
        "First, we convert the information currently stored in a spreadsheet into a matrix."
      ]
    },
    {
      "cell_type": "code",
      "metadata": {
        "id": "C7EPoEVwUNKH"
      },
      "source": [
        "# convert .csv file to pandas dataframe\n",
        "ratingsFile = rootdir + 'data/' + 'ratingsfiltered.csv'\n",
        "df = pd.read_csv(ratingsFile, dtype={\n",
        "    'movieId': np.int32,\n",
        "    'userId': np.int32,\n",
        "    'rating': np.float64,\n",
        "    'timestamp': np.int32\n",
        "}, header = 0, usecols = [0, 1, 2])"
      ],
      "execution_count": 5,
      "outputs": []
    },
    {
      "cell_type": "code",
      "metadata": {
        "colab": {
          "base_uri": "https://localhost:8080/",
          "height": 203
        },
        "id": "6sbxqFUGhjpP",
        "outputId": "db9cfb5d-cde8-42db-a3a6-7c0aa64b9548"
      },
      "source": [
        "df.head()"
      ],
      "execution_count": 6,
      "outputs": [
        {
          "output_type": "execute_result",
          "data": {
            "text/html": [
              "<div>\n",
              "<style scoped>\n",
              "    .dataframe tbody tr th:only-of-type {\n",
              "        vertical-align: middle;\n",
              "    }\n",
              "\n",
              "    .dataframe tbody tr th {\n",
              "        vertical-align: top;\n",
              "    }\n",
              "\n",
              "    .dataframe thead th {\n",
              "        text-align: right;\n",
              "    }\n",
              "</style>\n",
              "<table border=\"1\" class=\"dataframe\">\n",
              "  <thead>\n",
              "    <tr style=\"text-align: right;\">\n",
              "      <th></th>\n",
              "      <th>userId</th>\n",
              "      <th>movieId</th>\n",
              "      <th>rating</th>\n",
              "    </tr>\n",
              "  </thead>\n",
              "  <tbody>\n",
              "    <tr>\n",
              "      <th>0</th>\n",
              "      <td>1</td>\n",
              "      <td>307</td>\n",
              "      <td>3.5</td>\n",
              "    </tr>\n",
              "    <tr>\n",
              "      <th>1</th>\n",
              "      <td>1</td>\n",
              "      <td>481</td>\n",
              "      <td>3.5</td>\n",
              "    </tr>\n",
              "    <tr>\n",
              "      <th>2</th>\n",
              "      <td>2</td>\n",
              "      <td>170</td>\n",
              "      <td>3.5</td>\n",
              "    </tr>\n",
              "    <tr>\n",
              "      <th>3</th>\n",
              "      <td>2</td>\n",
              "      <td>849</td>\n",
              "      <td>3.5</td>\n",
              "    </tr>\n",
              "    <tr>\n",
              "      <th>4</th>\n",
              "      <td>3</td>\n",
              "      <td>640</td>\n",
              "      <td>3.0</td>\n",
              "    </tr>\n",
              "  </tbody>\n",
              "</table>\n",
              "</div>"
            ],
            "text/plain": [
              "   userId  movieId  rating\n",
              "0       1      307     3.5\n",
              "1       1      481     3.5\n",
              "2       2      170     3.5\n",
              "3       2      849     3.5\n",
              "4       3      640     3.0"
            ]
          },
          "metadata": {
            "tags": []
          },
          "execution_count": 6
        }
      ]
    },
    {
      "cell_type": "markdown",
      "metadata": {
        "id": "uWhpG0dC-PQW"
      },
      "source": [
        "We have created a modified .csv file that only contains rows with movie IDs that are <= 1024, because `genome-scores.csv` only contains data up to movieId 1024. So, we must further filter that data so that we only use users who have rated at least 20 movies."
      ]
    },
    {
      "cell_type": "code",
      "metadata": {
        "colab": {
          "base_uri": "https://localhost:8080/",
          "height": 203
        },
        "id": "M-a4vYF2-OtL",
        "outputId": "f70fbbbe-22f2-4724-9fce-9e408762a3f5"
      },
      "source": [
        "counts = df['userId'].value_counts()\n",
        "df = df[df['userId'].map(df['userId'].value_counts()) >= 20]\n",
        "df.head()"
      ],
      "execution_count": 7,
      "outputs": [
        {
          "output_type": "execute_result",
          "data": {
            "text/html": [
              "<div>\n",
              "<style scoped>\n",
              "    .dataframe tbody tr th:only-of-type {\n",
              "        vertical-align: middle;\n",
              "    }\n",
              "\n",
              "    .dataframe tbody tr th {\n",
              "        vertical-align: top;\n",
              "    }\n",
              "\n",
              "    .dataframe thead th {\n",
              "        text-align: right;\n",
              "    }\n",
              "</style>\n",
              "<table border=\"1\" class=\"dataframe\">\n",
              "  <thead>\n",
              "    <tr style=\"text-align: right;\">\n",
              "      <th></th>\n",
              "      <th>userId</th>\n",
              "      <th>movieId</th>\n",
              "      <th>rating</th>\n",
              "    </tr>\n",
              "  </thead>\n",
              "  <tbody>\n",
              "    <tr>\n",
              "      <th>7</th>\n",
              "      <td>4</td>\n",
              "      <td>1</td>\n",
              "      <td>4.0</td>\n",
              "    </tr>\n",
              "    <tr>\n",
              "      <th>8</th>\n",
              "      <td>4</td>\n",
              "      <td>2</td>\n",
              "      <td>4.0</td>\n",
              "    </tr>\n",
              "    <tr>\n",
              "      <th>9</th>\n",
              "      <td>4</td>\n",
              "      <td>5</td>\n",
              "      <td>2.0</td>\n",
              "    </tr>\n",
              "    <tr>\n",
              "      <th>10</th>\n",
              "      <td>4</td>\n",
              "      <td>6</td>\n",
              "      <td>4.5</td>\n",
              "    </tr>\n",
              "    <tr>\n",
              "      <th>11</th>\n",
              "      <td>4</td>\n",
              "      <td>10</td>\n",
              "      <td>4.0</td>\n",
              "    </tr>\n",
              "  </tbody>\n",
              "</table>\n",
              "</div>"
            ],
            "text/plain": [
              "    userId  movieId  rating\n",
              "7        4        1     4.0\n",
              "8        4        2     4.0\n",
              "9        4        5     2.0\n",
              "10       4        6     4.5\n",
              "11       4       10     4.0"
            ]
          },
          "metadata": {
            "tags": []
          },
          "execution_count": 7
        }
      ]
    },
    {
      "cell_type": "markdown",
      "metadata": {
        "id": "8NWKEOcSzp_S"
      },
      "source": [
        "Next, we split the dataset so we have a testing set to evaluate our algorithm on later. From the dataset, we are guaranteed that each user will complete at least 20 ratings, so we will not filter users that have completed less than $x$ amount of ratings, assuming that even after the training/testing split, each user will have completed a sufficient number of ratings that NMF will still be effective."
      ]
    },
    {
      "cell_type": "code",
      "metadata": {
        "colab": {
          "base_uri": "https://localhost:8080/"
        },
        "id": "WRwpb6-EXDvM",
        "outputId": "900a25f6-c419-4c22-cf42-46bfeba8f9a8"
      },
      "source": [
        "# split the data with 80% for training and 20% for testing\n",
        "trainingData, testData = crossfold.sample_rows(df, partitions=None, size=int(.2*len(df['userId'])))\n",
        "print(\"Number of samples in training dataset: \", len(trainingData))\n",
        "print(\"Number of samples in testing dataset: \", len(testData))"
      ],
      "execution_count": 8,
      "outputs": [
        {
          "output_type": "stream",
          "text": [
            "Number of samples in training dataset:  163940\n",
            "Number of samples in testing dataset:  40984\n"
          ],
          "name": "stdout"
        }
      ]
    },
    {
      "cell_type": "code",
      "metadata": {
        "id": "c14_e_PFvx3K"
      },
      "source": [
        "def generateRatingsMatrix(trainingData):\n",
        "    '''\n",
        "    Convert ratings csv file to a matrix.\n",
        "    \n",
        "    Arguments:\n",
        "    trainingData -- a dataframe specifying user ID, movie ID, and rating in columns 1, 2, and 3 respectively for training data\n",
        "    \n",
        "    Returns:\n",
        "    ratings -- a matrix where entry (i-1,j-1) describes the rating of user j for movie i (rows are movies and columns are users), of dimension m x p\n",
        "    '''\n",
        "    # create an empty matrix of dimensions m by p, where m is the max movie index and p is the max user ID\n",
        "    ratings = np.zeros((trainingData['movieId'].max(),trainingData['userId'].max()))\n",
        "\n",
        "    # for each movie rating, enter it into the matrix\n",
        "    for _, entry in trainingData.iterrows():\n",
        "      ratings[int(entry['movieId'])-1,int(entry['userId'])-1] = entry['rating']\n",
        "\n",
        "    return ratings"
      ],
      "execution_count": 9,
      "outputs": []
    },
    {
      "cell_type": "code",
      "metadata": {
        "id": "1pz6HQ5oUPM-"
      },
      "source": [
        "ratings = generateRatingsMatrix(trainingData)"
      ],
      "execution_count": 10,
      "outputs": []
    },
    {
      "cell_type": "code",
      "metadata": {
        "colab": {
          "base_uri": "https://localhost:8080/"
        },
        "id": "lAchNy8kEJxq",
        "outputId": "800364b6-6e0c-435b-ac30-519fbfa6a71b"
      },
      "source": [
        "ratings.shape"
      ],
      "execution_count": 11,
      "outputs": [
        {
          "output_type": "execute_result",
          "data": {
            "text/plain": [
              "(1024, 10532)"
            ]
          },
          "metadata": {
            "tags": []
          },
          "execution_count": 11
        }
      ]
    },
    {
      "cell_type": "markdown",
      "metadata": {
        "id": "uTeFClLUlZoe"
      },
      "source": [
        "Now, we want to create a matrix that describes the affinity of each person in the training data set to a particular tag (\"lawn mower\", \"Steven Spielberg\", \"comedy\", etc).\n",
        "\n",
        "In `genome-scores.csv`, we have `movieId`, `tagId`, and `relevance`. We will make a matrix that has dimension $t \\times p$, where $t$ is the number of tags and $p$ is the number of people in the training data set. For each row in our ratings matrix, we will add the relevance for a particular tag in that movie to the user's affinity for that tag."
      ]
    },
    {
      "cell_type": "code",
      "metadata": {
        "id": "_mg-wYq4nldU"
      },
      "source": [
        "def generateTagAffinityMatrix(ratingsMatrix, tagsFile):\n",
        "  '''\n",
        "  Generate a matrix describing the affinity of each rater to each tag, and a matrix describing the affinity of each movie to each tag\n",
        "\n",
        "  Arguments:\n",
        "  ratingsMatrix -- an m x p matrix where entry (i-1,j-1) describes the rating of user j for movie i\n",
        "  tagsFile -- a .csv file with columns of movieId, tagId, and relevance\n",
        "\n",
        "  Returns:\n",
        "  tags -- a matrix of dimension t x p, where t is the number of different tags, and the (i-1,j-1) entry describes the affinity of rater j towards tag i\n",
        "  movieTags -- a matrix of dimension t x m, where m is the number of movies\n",
        "  '''\n",
        "  # process the tags file\n",
        "  df = pd.read_csv(tagsFile, dtype={\n",
        "      'movieId': np.int32,\n",
        "      'tagId': np.int32,\n",
        "      'relevance': np.float64\n",
        "  }, header = 0)\n",
        "\n",
        "  # create a matrix equivalent of the tags file that contains relevance information for each tag for each movie\n",
        "  numTags = df['tagId'].max()\n",
        "  movieTags = np.zeros((numTags, 1024))  # replace 1024 with df['movieId'].max()?\n",
        "  for i in range(movieTags.shape[1]):\n",
        "    try:\n",
        "      movieTags[:, i] = df.iloc[i*numTags:(i+1)*numTags]['relevance']\n",
        "    except:\n",
        "      print(\"Stopped at i \", i)\n",
        "      break\n",
        "\n",
        "  # create an empty matrix of size t by p\n",
        "  tags = np.zeros((numTags, ratingsMatrix.shape[1]))\n",
        "\n",
        "  # for each movie rating, enter it into the matrix\n",
        "  for i in range(ratingsMatrix.shape[0]):\n",
        "    tags += ratingsMatrix[i,:].reshape(1,-1) * movieTags[:,i].reshape(-1,1)\n",
        "\n",
        "  return tags, movieTags"
      ],
      "execution_count": 12,
      "outputs": []
    },
    {
      "cell_type": "code",
      "metadata": {
        "id": "go1f_MWKrwyf"
      },
      "source": [
        "tags, movieTags = generateTagAffinityMatrix(ratings, rootdir + 'data/' + 'genome-scores.csv')"
      ],
      "execution_count": 13,
      "outputs": []
    },
    {
      "cell_type": "code",
      "metadata": {
        "colab": {
          "base_uri": "https://localhost:8080/"
        },
        "id": "qFS_YKo6Ggwg",
        "outputId": "fed0305e-e4b1-454f-d99a-d6a374d744ef"
      },
      "source": [
        "tags[0:10,0:10]"
      ],
      "execution_count": 14,
      "outputs": [
        {
          "output_type": "execute_result",
          "data": {
            "text/plain": [
              "array([[ 0.      ,  0.      ,  0.      , 22.993125,  0.      ,  9.35725 ,\n",
              "         0.      ,  1.79175 ,  0.      ,  9.726   ],\n",
              "       [ 0.      ,  0.      ,  0.      , 21.970625,  0.      ,  8.12475 ,\n",
              "         0.      ,  2.0085  ,  0.      ,  6.97475 ],\n",
              "       [ 0.      ,  0.      ,  0.      , 31.7885  ,  0.      ,  9.60375 ,\n",
              "         0.      ,  3.57975 ,  0.      , 12.8245  ],\n",
              "       [ 0.      ,  0.      ,  0.      , 26.880875,  0.      ,  8.24075 ,\n",
              "         0.      ,  6.97    ,  0.      ,  9.92625 ],\n",
              "       [ 0.      ,  0.      ,  0.      , 54.25575 ,  0.      , 15.49875 ,\n",
              "         0.      ,  6.2375  ,  0.      , 21.75825 ],\n",
              "       [ 0.      ,  0.      ,  0.      , 36.07225 ,  0.      , 14.8355  ,\n",
              "         0.      ,  5.73525 ,  0.      , 16.22625 ],\n",
              "       [ 0.      ,  0.      ,  0.      , 24.35325 ,  0.      ,  6.329   ,\n",
              "         0.      ,  3.912   ,  0.      , 11.97725 ],\n",
              "       [ 0.      ,  0.      ,  0.      , 49.601375,  0.      , 18.603   ,\n",
              "         0.      ,  8.57725 ,  0.      , 19.13875 ],\n",
              "       [ 0.      ,  0.      ,  0.      , 24.8475  ,  0.      ,  8.57875 ,\n",
              "         0.      ,  3.22625 ,  0.      , 10.678   ],\n",
              "       [ 0.      ,  0.      ,  0.      , 22.63875 ,  0.      ,  5.51025 ,\n",
              "         0.      ,  2.83675 ,  0.      , 13.8345  ]])"
            ]
          },
          "metadata": {
            "tags": []
          },
          "execution_count": 14
        }
      ]
    },
    {
      "cell_type": "code",
      "metadata": {
        "colab": {
          "base_uri": "https://localhost:8080/"
        },
        "id": "LUxCmp-1chmw",
        "outputId": "25b6c7e6-ca96-4d5a-b5e0-1d0b6184cdbb"
      },
      "source": [
        "movieTags[0:10,0:10]"
      ],
      "execution_count": 15,
      "outputs": [
        {
          "output_type": "execute_result",
          "data": {
            "text/plain": [
              "array([[0.029  , 0.03625, 0.0415 , 0.0335 , 0.0405 , 0.02925, 0.04775,\n",
              "        0.03125, 0.03225, 0.9995 ],\n",
              "       [0.02375, 0.03625, 0.0495 , 0.03675, 0.05175, 0.02575, 0.05075,\n",
              "        0.0375 , 0.0355 , 1.     ],\n",
              "       [0.05425, 0.08275, 0.03   , 0.04275, 0.036  , 0.027  , 0.134  ,\n",
              "        0.0805 , 0.0215 , 0.0305 ],\n",
              "       [0.06875, 0.08175, 0.09525, 0.02625, 0.04625, 0.0345 , 0.08825,\n",
              "        0.0315 , 0.0165 , 0.0515 ],\n",
              "       [0.16   , 0.102  , 0.04525, 0.0525 , 0.055  , 0.06825, 0.0955 ,\n",
              "        0.051  , 0.0235 , 0.0785 ],\n",
              "       [0.19525, 0.069  , 0.05925, 0.03025, 0.08   , 0.04675, 0.195  ,\n",
              "        0.0175 , 0.01975, 0.0855 ],\n",
              "       [0.076  , 0.05775, 0.04   , 0.02425, 0.0215 , 0.04675, 0.054  ,\n",
              "        0.01475, 0.0145 , 0.12125],\n",
              "       [0.252  , 0.101  , 0.1415 , 0.07475, 0.07375, 0.23375, 0.08975,\n",
              "        0.0765 , 0.046  , 0.122  ],\n",
              "       [0.2275 , 0.08225, 0.04075, 0.0375 , 0.02825, 0.1085 , 0.037  ,\n",
              "        0.025  , 0.01175, 0.0735 ],\n",
              "       [0.024  , 0.0525 , 0.032  , 0.024  , 0.02375, 0.02   , 0.1165 ,\n",
              "        0.0345 , 0.01375, 0.0185 ]])"
            ]
          },
          "metadata": {
            "tags": []
          },
          "execution_count": 15
        }
      ]
    },
    {
      "cell_type": "code",
      "metadata": {
        "colab": {
          "base_uri": "https://localhost:8080/"
        },
        "id": "3Mh-ECXyh8up",
        "outputId": "a150525c-640a-401b-e84d-4e975c4fd984"
      },
      "source": [
        "movieTags.shape"
      ],
      "execution_count": 16,
      "outputs": [
        {
          "output_type": "execute_result",
          "data": {
            "text/plain": [
              "(1128, 1024)"
            ]
          },
          "metadata": {
            "tags": []
          },
          "execution_count": 16
        }
      ]
    },
    {
      "cell_type": "markdown",
      "metadata": {
        "id": "w-Mp-xXGGxx4"
      },
      "source": [
        "We see 0's wherever a user (column) has not rated a movie."
      ]
    },
    {
      "cell_type": "markdown",
      "metadata": {
        "id": "Pp9BzeNIkbZw"
      },
      "source": [
        "## Investigate Data"
      ]
    },
    {
      "cell_type": "markdown",
      "metadata": {
        "id": "mSduRoh0kg2H"
      },
      "source": [
        "We take a brief aside to visualize some of the ratings."
      ]
    },
    {
      "cell_type": "code",
      "metadata": {
        "colab": {
          "base_uri": "https://localhost:8080/",
          "height": 295
        },
        "id": "8S1UiBagkdSk",
        "outputId": "05ff48c0-4bb8-4d69-e7ba-61b0336a4951"
      },
      "source": [
        "plt.hist(ratings.flatten()[ratings.flatten() != 0], bins=10, rwidth=0.9);\n",
        "plt.title(\"Distribution of Ratings\");\n",
        "plt.xlabel(\"Rating (out of 5 Stars)\");\n",
        "plt.ylabel(\"Frequency\");"
      ],
      "execution_count": 17,
      "outputs": [
        {
          "output_type": "display_data",
          "data": {
            "image/png": "[encoded data removed]",
            "text/plain": [
              "<Figure size 432x288 with 1 Axes>"
            ]
          },
          "metadata": {
            "tags": [],
            "needs_background": "light"
          }
        }
      ]
    },
    {
      "cell_type": "code",
      "metadata": {
        "colab": {
          "base_uri": "https://localhost:8080/",
          "height": 295
        },
        "id": "b9czoEPZt9C3",
        "outputId": "7eae639d-8314-4eff-8592-b8b14836c595"
      },
      "source": [
        "plt.hist(df['userId'], bins='auto', rwidth=0.9);\n",
        "plt.title(\"Distribution of Ratings Count per User\");\n",
        "plt.xlabel(\"Number of Ratings per User\");\n",
        "plt.ylabel(\"Frequency\");"
      ],
      "execution_count": 18,
      "outputs": [
        {
          "output_type": "display_data",
          "data": {
            "image/png": "[encoded data removed]",
            "text/plain": [
              "<Figure size 432x288 with 1 Axes>"
            ]
          },
          "metadata": {
            "tags": [],
            "needs_background": "light"
          }
        }
      ]
    },
    {
      "cell_type": "markdown",
      "metadata": {
        "id": "3p6MV0Wrz9ia"
      },
      "source": [
        "## NMF"
      ]
    },
    {
      "cell_type": "markdown",
      "metadata": {
        "id": "JOdzXord0E7M"
      },
      "source": [
        "Now apply NMF to create templates in W and each reviewer’s breakdown by template in H. Each template represents a collection of tags that a reviewer might like. \n",
        "\n",
        "*Note that we normalize H along the columns so that their total affinity adds up to 1 regardless of the number of ratings they have submitted.*"
      ]
    },
    {
      "cell_type": "markdown",
      "metadata": {
        "id": "GAN5abj8dgC5"
      },
      "source": [
        "*So that it runs faster, we will use librosa's decompose function to calculate the NMF.*"
      ]
    },
    {
      "cell_type": "code",
      "metadata": {
        "id": "vnyhGMFJU_a3"
      },
      "source": [
        "W, H = lb.decompose.decompose(movieTags,n_components=50)"
      ],
      "execution_count": 19,
      "outputs": []
    },
    {
      "cell_type": "markdown",
      "metadata": {
        "id": "WY70fp9wd2Rw"
      },
      "source": [
        "Here, we see that each of the types/genres (columns) has a lot of tags associated with it (rows)."
      ]
    },
    {
      "cell_type": "code",
      "metadata": {
        "colab": {
          "base_uri": "https://localhost:8080/",
          "height": 265
        },
        "id": "3kipVcy-dsUi",
        "outputId": "40a6e9bd-7129-4909-bbe7-9072460692c6"
      },
      "source": [
        "plt.imshow(W, aspect = 'auto', origin = \"lower\", cmap = 'jet');"
      ],
      "execution_count": 20,
      "outputs": [
        {
          "output_type": "display_data",
          "data": {
            "image/png": "[encoded data removed]",
            "text/plain": [
              "<Figure size 432x288 with 1 Axes>"
            ]
          },
          "metadata": {
            "tags": [],
            "needs_background": "light"
          }
        }
      ]
    },
    {
      "cell_type": "markdown",
      "metadata": {
        "id": "IjAjp-edeRcq"
      },
      "source": [
        "We can also see that for each movie (columns), there are associated types (rows)."
      ]
    },
    {
      "cell_type": "code",
      "metadata": {
        "colab": {
          "base_uri": "https://localhost:8080/",
          "height": 265
        },
        "id": "3aW-SZ7LeEke",
        "outputId": "985cf697-f7ae-4a8d-bb9d-dc89879db29c"
      },
      "source": [
        "plt.imshow(H, aspect = 'auto', origin = \"lower\", cmap = 'jet');"
      ],
      "execution_count": 21,
      "outputs": [
        {
          "output_type": "display_data",
          "data": {
            "image/png": "[encoded data removed]",
            "text/plain": [
              "<Figure size 432x288 with 1 Axes>"
            ]
          },
          "metadata": {
            "tags": [],
            "needs_background": "light"
          }
        }
      ]
    },
    {
      "cell_type": "markdown",
      "metadata": {
        "id": "n2ITYReYe0Ku"
      },
      "source": [
        "In comparison with HW10 and the xylophone, we notice that there the graphs are more scattered, which is likely because the movies and tags are not grouped by similarity and there's also a lot of them, whereas the notes were held for some amount of time. If we look at a smaller selection of movies and tags, the graph becomes more clear."
      ]
    },
    {
      "cell_type": "code",
      "metadata": {
        "colab": {
          "base_uri": "https://localhost:8080/",
          "height": 265
        },
        "id": "relw2j9tfEyJ",
        "outputId": "ce97685d-4f38-4edd-999e-bcfb907266ef"
      },
      "source": [
        "plt.imshow(W[0:10], aspect = 'auto', origin = \"lower\", cmap = 'jet');"
      ],
      "execution_count": 22,
      "outputs": [
        {
          "output_type": "display_data",
          "data": {
            "image/png": "[encoded data removed]",
            "text/plain": [
              "<Figure size 432x288 with 1 Axes>"
            ]
          },
          "metadata": {
            "tags": [],
            "needs_background": "light"
          }
        }
      ]
    },
    {
      "cell_type": "code",
      "metadata": {
        "colab": {
          "base_uri": "https://localhost:8080/",
          "height": 265
        },
        "id": "FA0MPn-AfeeL",
        "outputId": "16dc6f1a-f8bd-4683-c7d4-497318504db4"
      },
      "source": [
        "plt.imshow(H[:,0:10], aspect = 'auto', origin = \"lower\", cmap = 'jet');"
      ],
      "execution_count": 23,
      "outputs": [
        {
          "output_type": "display_data",
          "data": {
            "image/png": "[encoded data removed]",
            "text/plain": [
              "<Figure size 432x288 with 1 Axes>"
            ]
          },
          "metadata": {
            "tags": [],
            "needs_background": "light"
          }
        }
      ]
    },
    {
      "cell_type": "markdown",
      "metadata": {
        "id": "menQ5Wqg0SZE"
      },
      "source": [
        "## Prediction"
      ]
    },
    {
      "cell_type": "markdown",
      "metadata": {
        "id": "ZkhMlKCC0W3k"
      },
      "source": [
        "Next, we use H and `ratings.csv` to find $M$, a template affinity matrix where each column is a person and each row is a movie template, so the value at the $i$th row and $j$th column tells us what to expect person $j$ to rate a movie of template $i$.\n",
        "\n",
        "We will calculate the expected rating located at `templateRatings[i][j]` by finding $$\\frac{\\sum_{movies} H[movie_m,i] \\times ratingsMatrix[movie_m, j]}{\\sum_{movies} H[movie_m,i]} $$"
      ]
    },
    {
      "cell_type": "code",
      "metadata": {
        "id": "nOY_xz2X0WQg"
      },
      "source": [
        "def generateTemplateRatingsMatrix(ratingsMatrix, H):\n",
        "  '''\n",
        "  Generate a matrix describing the affinity of each rater to each tag, and a matrix describing the affinity of each movie to each tag\n",
        "\n",
        "  Arguments:\n",
        "  ratingsMatrix -- an m x p matrix where entry (i-1,j-1) describes the rating of user j for movie i\n",
        "  H -- the activation matrix of size R x m that results from the NMF algorithm\n",
        "\n",
        "  Returns:\n",
        "  templateRatings -- a matrix of dimension R x p, where R is the number of templates, \n",
        "                      and the (i-1,j-1) entry describes the expected rating of rater j towards matrix template i\n",
        "  '''\n",
        "\n",
        "  # create an empty matrix of size R by p\n",
        "  templateRatings = np.zeros((H.shape[0], ratingsMatrix.shape[1]))\n",
        "  counts = np.zeros((H.shape[0], ratingsMatrix.shape[1]))\n",
        "  mask = (ratingsMatrix != 0) * 1\n",
        "\n",
        "  # for each movie rating, add weighted rating to each template and keep track of total weights\n",
        "  for i in range(ratingsMatrix.shape[0]):\n",
        "    templateRatings += ratingsMatrix[i,:].reshape(1,-1) * H[:,i].reshape(-1,1)\n",
        "    counts += mask[i,:].reshape(1,-1) * H[:,i].reshape(-1,1)\n",
        "\n",
        "\n",
        "  return templateRatings / (counts + 10**-9)"
      ],
      "execution_count": 24,
      "outputs": []
    },
    {
      "cell_type": "code",
      "metadata": {
        "id": "KocoX4C-orsy"
      },
      "source": [
        "templateRatings = generateTemplateRatingsMatrix(ratings, H)"
      ],
      "execution_count": 25,
      "outputs": []
    },
    {
      "cell_type": "code",
      "metadata": {
        "colab": {
          "base_uri": "https://localhost:8080/"
        },
        "id": "KvDKC2qOo5ry",
        "outputId": "1c39d267-5b24-499f-82c6-bbe72f01886d"
      },
      "source": [
        "templateRatings[0:10,0:10]"
      ],
      "execution_count": 26,
      "outputs": [
        {
          "output_type": "execute_result",
          "data": {
            "text/plain": [
              "array([[0.        , 0.        , 0.        , 3.20478178, 0.        ,\n",
              "        4.17234598, 0.        , 3.0430804 , 0.        , 4.5251957 ],\n",
              "       [0.        , 0.        , 0.        , 3.10591309, 0.        ,\n",
              "        3.54257047, 0.        , 3.50032669, 0.        , 4.45717411],\n",
              "       [0.        , 0.        , 0.        , 3.21916342, 0.        ,\n",
              "        3.50939748, 0.        , 3.71738329, 0.        , 4.39048055],\n",
              "       [0.        , 0.        , 0.        , 3.88434262, 0.        ,\n",
              "        4.55397183, 0.        , 3.22642994, 0.        , 4.16543023],\n",
              "       [0.        , 0.        , 0.        , 3.34509961, 0.        ,\n",
              "        3.59487218, 0.        , 3.28265612, 0.        , 4.54671726],\n",
              "       [0.        , 0.        , 0.        , 2.84817688, 0.        ,\n",
              "        4.22180828, 0.        , 3.74122906, 0.        , 3.57321865],\n",
              "       [0.        , 0.        , 0.        , 3.30055783, 0.        ,\n",
              "        4.36737642, 0.        , 2.75356949, 0.        , 4.0529216 ],\n",
              "       [0.        , 0.        , 0.        , 3.60003172, 0.        ,\n",
              "        3.94606888, 0.        , 3.095123  , 0.        , 4.98333387],\n",
              "       [0.        , 0.        , 0.        , 3.4387481 , 0.        ,\n",
              "        4.11273808, 0.        , 3.89168395, 0.        , 4.55303642],\n",
              "       [0.        , 0.        , 0.        , 3.34794729, 0.        ,\n",
              "        3.72701304, 0.        , 2.98754521, 0.        , 4.23573861]])"
            ]
          },
          "metadata": {
            "tags": []
          },
          "execution_count": 26
        }
      ]
    },
    {
      "cell_type": "code",
      "metadata": {
        "colab": {
          "base_uri": "https://localhost:8080/"
        },
        "id": "H234dwXNpCvG",
        "outputId": "27fb800c-9df1-475e-86b3-8f09e539fcc0"
      },
      "source": [
        "print(\"Highest Rating: \", templateRatings.max())  # confirm that we stay <= 5, the max rating\n",
        "print(\"Lowest Rating: \", templateRatings.min())  # confirm that we stay >= 0, the lowest rating"
      ],
      "execution_count": 27,
      "outputs": [
        {
          "output_type": "stream",
          "text": [
            "Highest Rating:  4.999999999020912\n",
            "Lowest Rating:  0.0\n"
          ],
          "name": "stdout"
        }
      ]
    },
    {
      "cell_type": "markdown",
      "metadata": {
        "id": "OhXt3S5Ip38F"
      },
      "source": [
        "To predict the rating given a movie and a person, we should use the normalized $H$ matrix and $M$ matrix, then calculate a linear combination with the breakdown of the movie template from $H$ and the ratings for each template from $M$."
      ]
    },
    {
      "cell_type": "code",
      "metadata": {
        "id": "N5kSqQegp1kJ"
      },
      "source": [
        "def predictRating(movieId, userId, normalizedH, M, maxGenre=False):\n",
        "  '''\n",
        "  Predict the rating that the given person would rate the given movie, provided with the template activation matrix and template ratings matrix\n",
        "\n",
        "  Arguments:\n",
        "  movieId -- the given movieId\n",
        "  userId -- the given userId\n",
        "  normalizedH -- a normalized (by column) version of the H matrix from the NMF algorithm of size R x m\n",
        "  M -- the template ratings matrix of size R x p\n",
        "  maxGenre -- only look at the most important genre?\n",
        "\n",
        "  Returns:\n",
        "  rating -- a float for the expected rating of movie by person\n",
        "  '''\n",
        "  # later, replace this with an ID to index function\n",
        "  userIndex = userId - 1\n",
        "  movieIndex = movieId - 1\n",
        "\n",
        "  # multiply H and M elementwise to weight each rating, then sum those weighted ratings\n",
        "  if maxGenre:\n",
        "    rating = M[np.argmax(normalizedH[:,movieIndex]), userIndex]\n",
        "  else:\n",
        "    rating = np.sum(normalizedH[:,movieIndex] * M[:,userIndex])\n",
        "  return rating"
      ],
      "execution_count": 28,
      "outputs": []
    },
    {
      "cell_type": "code",
      "metadata": {
        "id": "HoT7Lu2GtBXE"
      },
      "source": [
        "normalizedH = normalize(H, norm='l1', axis=0)"
      ],
      "execution_count": 29,
      "outputs": []
    },
    {
      "cell_type": "code",
      "metadata": {
        "colab": {
          "base_uri": "https://localhost:8080/"
        },
        "id": "Jqz5PHF8yaJd",
        "outputId": "7826d2c9-b471-4ded-a9b2-1083416ea699"
      },
      "source": [
        "userIndex = 4 - 1\n",
        "allRatings = np.sum(normalizedH * templateRatings[:,userIndex].reshape(-1,1), axis = 0)\n",
        "print(allRatings.max())\n",
        "print(allRatings.min())"
      ],
      "execution_count": 30,
      "outputs": [
        {
          "output_type": "stream",
          "text": [
            "3.4038826595116474\n",
            "2.819292859849701\n"
          ],
          "name": "stdout"
        }
      ]
    },
    {
      "cell_type": "code",
      "metadata": {
        "colab": {
          "base_uri": "https://localhost:8080/"
        },
        "id": "kFuc-9uktXFF",
        "outputId": "93c855bf-cc27-45ce-ada5-059bf133bcfd"
      },
      "source": [
        "predictRating(1, 4, normalizedH, templateRatings)"
      ],
      "execution_count": 31,
      "outputs": [
        {
          "output_type": "execute_result",
          "data": {
            "text/plain": [
              "3.3418132093801596"
            ]
          },
          "metadata": {
            "tags": []
          },
          "execution_count": 31
        }
      ]
    },
    {
      "cell_type": "code",
      "metadata": {
        "colab": {
          "base_uri": "https://localhost:8080/"
        },
        "id": "wucPijw1uwd8",
        "outputId": "4af8df1d-3c55-4080-ff3b-73c56f56a8b6"
      },
      "source": [
        "predictRating(2, 4, normalizedH, templateRatings)"
      ],
      "execution_count": 32,
      "outputs": [
        {
          "output_type": "execute_result",
          "data": {
            "text/plain": [
              "3.2605671065363224"
            ]
          },
          "metadata": {
            "tags": []
          },
          "execution_count": 32
        }
      ]
    },
    {
      "cell_type": "code",
      "metadata": {
        "colab": {
          "base_uri": "https://localhost:8080/"
        },
        "id": "rPSJwjo4uxmX",
        "outputId": "6fc3d575-689d-4f37-c4bf-7f9bcc851fdd"
      },
      "source": [
        "predictRating(5, 4, normalizedH, templateRatings)"
      ],
      "execution_count": 33,
      "outputs": [
        {
          "output_type": "execute_result",
          "data": {
            "text/plain": [
              "3.2390844537122656"
            ]
          },
          "metadata": {
            "tags": []
          },
          "execution_count": 33
        }
      ]
    },
    {
      "cell_type": "code",
      "metadata": {
        "colab": {
          "base_uri": "https://localhost:8080/"
        },
        "id": "lDOsEidsuyCp",
        "outputId": "2f8f6fd9-11a7-4d13-e0fb-0a43102b454c"
      },
      "source": [
        "predictRating(6, 4, normalizedH, templateRatings)"
      ],
      "execution_count": 34,
      "outputs": [
        {
          "output_type": "execute_result",
          "data": {
            "text/plain": [
              "3.191877190953148"
            ]
          },
          "metadata": {
            "tags": []
          },
          "execution_count": 34
        }
      ]
    },
    {
      "cell_type": "code",
      "metadata": {
        "colab": {
          "base_uri": "https://localhost:8080/"
        },
        "id": "1KH3kELXuyZJ",
        "outputId": "8ef3adc8-62c6-47b3-b10a-ef3b5614adec"
      },
      "source": [
        "predictRating(10, 4, normalizedH, templateRatings)"
      ],
      "execution_count": 35,
      "outputs": [
        {
          "output_type": "execute_result",
          "data": {
            "text/plain": [
              "3.2236232023771554"
            ]
          },
          "metadata": {
            "tags": []
          },
          "execution_count": 35
        }
      ]
    },
    {
      "cell_type": "markdown",
      "metadata": {
        "id": "N7rdDwql0u2D"
      },
      "source": [
        "## Evaluation"
      ]
    },
    {
      "cell_type": "markdown",
      "metadata": {
        "id": "wogGzOublzXT"
      },
      "source": [
        ""
      ]
    },
    {
      "cell_type": "code",
      "metadata": {
        "id": "9OX-hNeUl0go",
        "colab": {
          "base_uri": "https://localhost:8080/",
          "height": 203
        },
        "outputId": "728deb38-8bce-4442-9ae1-3caada92b004"
      },
      "source": [
        "testData.head()"
      ],
      "execution_count": 36,
      "outputs": [
        {
          "output_type": "execute_result",
          "data": {
            "text/html": [
              "<div>\n",
              "<style scoped>\n",
              "    .dataframe tbody tr th:only-of-type {\n",
              "        vertical-align: middle;\n",
              "    }\n",
              "\n",
              "    .dataframe tbody tr th {\n",
              "        vertical-align: top;\n",
              "    }\n",
              "\n",
              "    .dataframe thead th {\n",
              "        text-align: right;\n",
              "    }\n",
              "</style>\n",
              "<table border=\"1\" class=\"dataframe\">\n",
              "  <thead>\n",
              "    <tr style=\"text-align: right;\">\n",
              "      <th></th>\n",
              "      <th>userId</th>\n",
              "      <th>movieId</th>\n",
              "      <th>rating</th>\n",
              "    </tr>\n",
              "  </thead>\n",
              "  <tbody>\n",
              "    <tr>\n",
              "      <th>158463</th>\n",
              "      <td>6787</td>\n",
              "      <td>594</td>\n",
              "      <td>5.0</td>\n",
              "    </tr>\n",
              "    <tr>\n",
              "      <th>228101</th>\n",
              "      <td>9790</td>\n",
              "      <td>158</td>\n",
              "      <td>3.0</td>\n",
              "    </tr>\n",
              "    <tr>\n",
              "      <th>116823</th>\n",
              "      <td>5046</td>\n",
              "      <td>233</td>\n",
              "      <td>4.0</td>\n",
              "    </tr>\n",
              "    <tr>\n",
              "      <th>61865</th>\n",
              "      <td>2585</td>\n",
              "      <td>223</td>\n",
              "      <td>4.0</td>\n",
              "    </tr>\n",
              "    <tr>\n",
              "      <th>41712</th>\n",
              "      <td>1769</td>\n",
              "      <td>924</td>\n",
              "      <td>4.0</td>\n",
              "    </tr>\n",
              "  </tbody>\n",
              "</table>\n",
              "</div>"
            ],
            "text/plain": [
              "        userId  movieId  rating\n",
              "158463    6787      594     5.0\n",
              "228101    9790      158     3.0\n",
              "116823    5046      233     4.0\n",
              "61865     2585      223     4.0\n",
              "41712     1769      924     4.0"
            ]
          },
          "metadata": {
            "tags": []
          },
          "execution_count": 36
        }
      ]
    },
    {
      "cell_type": "code",
      "metadata": {
        "id": "lMQsmI-hsK2R"
      },
      "source": [
        "def calcRatings(data, normalizedH, M, maxGenre = False):\n",
        "  '''\n",
        "  Given a set of data, add a column to it for the expected rating\n",
        "\n",
        "  Arguments:\n",
        "  data -- the dataframe with testing data\n",
        "  normalizedH -- a normalized (by column) version of the H matrix from the NMF algorithm of size R x m\n",
        "  M -- the template ratings matrix of size R x p\n",
        "  maxGenre -- whether to only look at the most important genre\n",
        "\n",
        "  Returns:\n",
        "  data -- the modified dataset, with an additional column called expectedRating\n",
        "  '''\n",
        "  # for each rating (row in data), call the predictRating() function and append that expected rating to a list\n",
        "  expectedRatings = []\n",
        "\n",
        "  for _,x in data.iterrows():\n",
        "    expectedRatings.append(predictRating(int(x['movieId']), int(x['userId']), normalizedH, M, maxGenre = maxGenre))\n",
        "\n",
        "  # add a column to the dataframe with the expected ratings, then return that modified dataframe\n",
        "  data['expectedRatings'] = expectedRatings\n",
        "  return data"
      ],
      "execution_count": 37,
      "outputs": []
    },
    {
      "cell_type": "code",
      "metadata": {
        "id": "lI5_QJd_t_io"
      },
      "source": [
        "testData2 = calcRatings(testData, normalizedH, templateRatings)"
      ],
      "execution_count": 38,
      "outputs": []
    },
    {
      "cell_type": "code",
      "metadata": {
        "colab": {
          "base_uri": "https://localhost:8080/",
          "height": 203
        },
        "id": "K2we4Qy2u_6x",
        "outputId": "7309d131-a2d9-47f5-a354-1684cb1a3426"
      },
      "source": [
        "testData2.head()"
      ],
      "execution_count": 39,
      "outputs": [
        {
          "output_type": "execute_result",
          "data": {
            "text/html": [
              "<div>\n",
              "<style scoped>\n",
              "    .dataframe tbody tr th:only-of-type {\n",
              "        vertical-align: middle;\n",
              "    }\n",
              "\n",
              "    .dataframe tbody tr th {\n",
              "        vertical-align: top;\n",
              "    }\n",
              "\n",
              "    .dataframe thead th {\n",
              "        text-align: right;\n",
              "    }\n",
              "</style>\n",
              "<table border=\"1\" class=\"dataframe\">\n",
              "  <thead>\n",
              "    <tr style=\"text-align: right;\">\n",
              "      <th></th>\n",
              "      <th>userId</th>\n",
              "      <th>movieId</th>\n",
              "      <th>rating</th>\n",
              "      <th>expectedRatings</th>\n",
              "    </tr>\n",
              "  </thead>\n",
              "  <tbody>\n",
              "    <tr>\n",
              "      <th>158463</th>\n",
              "      <td>6787</td>\n",
              "      <td>594</td>\n",
              "      <td>5.0</td>\n",
              "      <td>4.342730</td>\n",
              "    </tr>\n",
              "    <tr>\n",
              "      <th>228101</th>\n",
              "      <td>9790</td>\n",
              "      <td>158</td>\n",
              "      <td>3.0</td>\n",
              "      <td>3.413915</td>\n",
              "    </tr>\n",
              "    <tr>\n",
              "      <th>116823</th>\n",
              "      <td>5046</td>\n",
              "      <td>233</td>\n",
              "      <td>4.0</td>\n",
              "      <td>3.789079</td>\n",
              "    </tr>\n",
              "    <tr>\n",
              "      <th>61865</th>\n",
              "      <td>2585</td>\n",
              "      <td>223</td>\n",
              "      <td>4.0</td>\n",
              "      <td>4.007886</td>\n",
              "    </tr>\n",
              "    <tr>\n",
              "      <th>41712</th>\n",
              "      <td>1769</td>\n",
              "      <td>924</td>\n",
              "      <td>4.0</td>\n",
              "      <td>3.453498</td>\n",
              "    </tr>\n",
              "  </tbody>\n",
              "</table>\n",
              "</div>"
            ],
            "text/plain": [
              "        userId  movieId  rating  expectedRatings\n",
              "158463    6787      594     5.0         4.342730\n",
              "228101    9790      158     3.0         3.413915\n",
              "116823    5046      233     4.0         3.789079\n",
              "61865     2585      223     4.0         4.007886\n",
              "41712     1769      924     4.0         3.453498"
            ]
          },
          "metadata": {
            "tags": []
          },
          "execution_count": 39
        }
      ]
    },
    {
      "cell_type": "code",
      "metadata": {
        "colab": {
          "base_uri": "https://localhost:8080/"
        },
        "id": "z_Hqq_3evXcY",
        "outputId": "ea826160-a46b-4e90-8bcb-f7b5afab2431"
      },
      "source": [
        "print(\"Minimum expected rating: \", testData2['expectedRatings'].min())\n",
        "print(\"Maximum expected rating: \", testData2['expectedRatings'].max())"
      ],
      "execution_count": 40,
      "outputs": [
        {
          "output_type": "stream",
          "text": [
            "Minimum expected rating:  0.7737366475394393\n",
            "Maximum expected rating:  4.999999998189311\n"
          ],
          "name": "stdout"
        }
      ]
    },
    {
      "cell_type": "code",
      "metadata": {
        "id": "dkYn-qXrvtq-"
      },
      "source": [
        "testData3 = testData2.sort_values(by='expectedRatings')"
      ],
      "execution_count": 41,
      "outputs": []
    },
    {
      "cell_type": "code",
      "metadata": {
        "colab": {
          "base_uri": "https://localhost:8080/",
          "height": 203
        },
        "id": "xMYXHkImwDD3",
        "outputId": "e1dbba72-ec3e-4f6e-a8cf-d70a3d0c8387"
      },
      "source": [
        "testData3.head()"
      ],
      "execution_count": 42,
      "outputs": [
        {
          "output_type": "execute_result",
          "data": {
            "text/html": [
              "<div>\n",
              "<style scoped>\n",
              "    .dataframe tbody tr th:only-of-type {\n",
              "        vertical-align: middle;\n",
              "    }\n",
              "\n",
              "    .dataframe tbody tr th {\n",
              "        vertical-align: top;\n",
              "    }\n",
              "\n",
              "    .dataframe thead th {\n",
              "        text-align: right;\n",
              "    }\n",
              "</style>\n",
              "<table border=\"1\" class=\"dataframe\">\n",
              "  <thead>\n",
              "    <tr style=\"text-align: right;\">\n",
              "      <th></th>\n",
              "      <th>userId</th>\n",
              "      <th>movieId</th>\n",
              "      <th>rating</th>\n",
              "      <th>expectedRatings</th>\n",
              "    </tr>\n",
              "  </thead>\n",
              "  <tbody>\n",
              "    <tr>\n",
              "      <th>184893</th>\n",
              "      <td>7932</td>\n",
              "      <td>413</td>\n",
              "      <td>2.0</td>\n",
              "      <td>0.773737</td>\n",
              "    </tr>\n",
              "    <tr>\n",
              "      <th>184931</th>\n",
              "      <td>7932</td>\n",
              "      <td>543</td>\n",
              "      <td>0.5</td>\n",
              "      <td>0.773760</td>\n",
              "    </tr>\n",
              "    <tr>\n",
              "      <th>184788</th>\n",
              "      <td>7932</td>\n",
              "      <td>5</td>\n",
              "      <td>0.5</td>\n",
              "      <td>0.785775</td>\n",
              "    </tr>\n",
              "    <tr>\n",
              "      <th>185033</th>\n",
              "      <td>7932</td>\n",
              "      <td>1021</td>\n",
              "      <td>0.5</td>\n",
              "      <td>0.808632</td>\n",
              "    </tr>\n",
              "    <tr>\n",
              "      <th>185009</th>\n",
              "      <td>7932</td>\n",
              "      <td>922</td>\n",
              "      <td>0.5</td>\n",
              "      <td>0.817523</td>\n",
              "    </tr>\n",
              "  </tbody>\n",
              "</table>\n",
              "</div>"
            ],
            "text/plain": [
              "        userId  movieId  rating  expectedRatings\n",
              "184893    7932      413     2.0         0.773737\n",
              "184931    7932      543     0.5         0.773760\n",
              "184788    7932        5     0.5         0.785775\n",
              "185033    7932     1021     0.5         0.808632\n",
              "185009    7932      922     0.5         0.817523"
            ]
          },
          "metadata": {
            "tags": []
          },
          "execution_count": 42
        }
      ]
    },
    {
      "cell_type": "code",
      "metadata": {
        "colab": {
          "base_uri": "https://localhost:8080/",
          "height": 203
        },
        "id": "nDjxS8igwTeL",
        "outputId": "9e6cb163-397c-4c75-ed81-fef66e76592d"
      },
      "source": [
        "testData3.tail()"
      ],
      "execution_count": 43,
      "outputs": [
        {
          "output_type": "execute_result",
          "data": {
            "text/html": [
              "<div>\n",
              "<style scoped>\n",
              "    .dataframe tbody tr th:only-of-type {\n",
              "        vertical-align: middle;\n",
              "    }\n",
              "\n",
              "    .dataframe tbody tr th {\n",
              "        vertical-align: top;\n",
              "    }\n",
              "\n",
              "    .dataframe thead th {\n",
              "        text-align: right;\n",
              "    }\n",
              "</style>\n",
              "<table border=\"1\" class=\"dataframe\">\n",
              "  <thead>\n",
              "    <tr style=\"text-align: right;\">\n",
              "      <th></th>\n",
              "      <th>userId</th>\n",
              "      <th>movieId</th>\n",
              "      <th>rating</th>\n",
              "      <th>expectedRatings</th>\n",
              "    </tr>\n",
              "  </thead>\n",
              "  <tbody>\n",
              "    <tr>\n",
              "      <th>78173</th>\n",
              "      <td>3332</td>\n",
              "      <td>743</td>\n",
              "      <td>5.0</td>\n",
              "      <td>5.0</td>\n",
              "    </tr>\n",
              "    <tr>\n",
              "      <th>78139</th>\n",
              "      <td>3332</td>\n",
              "      <td>94</td>\n",
              "      <td>5.0</td>\n",
              "      <td>5.0</td>\n",
              "    </tr>\n",
              "    <tr>\n",
              "      <th>78154</th>\n",
              "      <td>3332</td>\n",
              "      <td>362</td>\n",
              "      <td>5.0</td>\n",
              "      <td>5.0</td>\n",
              "    </tr>\n",
              "    <tr>\n",
              "      <th>78188</th>\n",
              "      <td>3332</td>\n",
              "      <td>849</td>\n",
              "      <td>5.0</td>\n",
              "      <td>5.0</td>\n",
              "    </tr>\n",
              "    <tr>\n",
              "      <th>78132</th>\n",
              "      <td>3332</td>\n",
              "      <td>63</td>\n",
              "      <td>5.0</td>\n",
              "      <td>5.0</td>\n",
              "    </tr>\n",
              "  </tbody>\n",
              "</table>\n",
              "</div>"
            ],
            "text/plain": [
              "       userId  movieId  rating  expectedRatings\n",
              "78173    3332      743     5.0              5.0\n",
              "78139    3332       94     5.0              5.0\n",
              "78154    3332      362     5.0              5.0\n",
              "78188    3332      849     5.0              5.0\n",
              "78132    3332       63     5.0              5.0"
            ]
          },
          "metadata": {
            "tags": []
          },
          "execution_count": 43
        }
      ]
    },
    {
      "cell_type": "code",
      "metadata": {
        "colab": {
          "base_uri": "https://localhost:8080/"
        },
        "id": "iuHHAbR1wivL",
        "outputId": "31d346fc-d659-4901-ae8d-0a1a4759d550"
      },
      "source": [
        "rmse(testData2['expectedRatings'], testData2['rating'])"
      ],
      "execution_count": 44,
      "outputs": [
        {
          "output_type": "execute_result",
          "data": {
            "text/plain": [
              "0.9643419224734368"
            ]
          },
          "metadata": {
            "tags": []
          },
          "execution_count": 44
        }
      ]
    },
    {
      "cell_type": "markdown",
      "metadata": {
        "id": "CUNSdFSwlSiu"
      },
      "source": [
        "## Compare to the naive median approach..."
      ]
    },
    {
      "cell_type": "markdown",
      "metadata": {
        "id": "x4i79S5A0iqI"
      },
      "source": [
        "Knowing that we can use the $i$th column of H and and $j$th column of M to find expected rating of person $i$ for movie $j$, we can now test our predictions.\n",
        "\n",
        "We will predict the ratings for the data we set aside as a testing set, and compare to the true rating values."
      ]
    },
    {
      "cell_type": "code",
      "metadata": {
        "id": "l7JR-j7i06yQ"
      },
      "source": [
        "def averageMovieRating(data, ratingsMatrix):\n",
        "  '''\n",
        "  Calculate the average movie rating for all movies\n",
        "\n",
        "  Arguments:\n",
        "  data -- the dataframe with the testing data\n",
        "  ratingsMatrix -- a matrix where entry (i-1,j-1) describes the rating of user j for movie i (rows are movies and columns are users), of dimension m x p\n",
        "\n",
        "  Returns:\n",
        "  data -- the modified dataframe with columns added for the mean and median ratings for each movie\n",
        "  '''\n",
        "  # add columns to data for mean and median movie rating\n",
        "  # change from -1 to idToIndex function?\n",
        "  meanMovieRating = []\n",
        "  medianMovieRating = []\n",
        "\n",
        "  # calculate the mean and median ratings for each movie\n",
        "  for _, entry in data.iterrows():\n",
        "    # change from -1 to idToIndex function?\n",
        "    movieIndex = int(entry[\"movieId\"] - 1)\n",
        "    movieRow = ratingsMatrix[movieIndex,:]\n",
        "    movieMean = np.mean(movieRow[movieRow != 0])\n",
        "    movieMed = np.median(movieRow[movieRow != 0])\n",
        "    meanMovieRating.append(movieMean)\n",
        "    medianMovieRating.append(movieMed)\n",
        "\n",
        "  data['meanMovieRating'] = meanMovieRating\n",
        "  data['medianMovieRating'] = medianMovieRating\n",
        "\n",
        "  return data\n",
        "  "
      ],
      "execution_count": 45,
      "outputs": []
    },
    {
      "cell_type": "code",
      "metadata": {
        "id": "-NysMJ8D2-o4"
      },
      "source": [
        "def averageUserRating(data, ratingsMatrix):\n",
        "  '''\n",
        "  Calculate the average movie rating for all movies\n",
        "\n",
        "  Arguments:\n",
        "  data -- the dataframe with the testing data\n",
        "  ratingsMatrix -- a matrix where entry (i-1,j-1) describes the rating of user j for movie i (rows are movies and columns are users), of dimension m x p\n",
        "\n",
        "  Returns:\n",
        "  data -- the modified dataframe with columns added for the mean and median ratings for each movie\n",
        "  '''\n",
        "  # add columns to data for mean and median movie rating\n",
        "  # change from -1 to idToIndex function?\n",
        "  meanUserRating = []\n",
        "  medianUserRating = []\n",
        "\n",
        "  # calculate the mean and median ratings for each user\n",
        "  for _, entry in data.iterrows():\n",
        "    # change from -1 to idToIndex function?\n",
        "    userIndex = int(entry[\"userId\"] - 1)\n",
        "    userRow = ratingsMatrix[:,userIndex]\n",
        "    userMean = np.mean(userRow[userRow != 0])\n",
        "    userMed = np.median(userRow[userRow != 0])\n",
        "    meanUserRating.append(userMean)\n",
        "    medianUserRating.append(userMed)\n",
        "\n",
        "  data['meanUserRating'] = meanUserRating\n",
        "  data['medianUserRating'] = medianUserRating\n",
        "\n",
        "  return data\n",
        "  "
      ],
      "execution_count": 46,
      "outputs": []
    },
    {
      "cell_type": "code",
      "metadata": {
        "colab": {
          "base_uri": "https://localhost:8080/"
        },
        "id": "KCnW7mNd3Ema",
        "outputId": "b6d6d8a7-2578-4b77-c8c2-e742441cf730"
      },
      "source": [
        "testData3 = averageMovieRating(testData, ratings)"
      ],
      "execution_count": 47,
      "outputs": [
        {
          "output_type": "stream",
          "text": [
            "/usr/local/lib/python3.7/dist-packages/numpy/core/fromnumeric.py:3373: RuntimeWarning: Mean of empty slice.\n",
            "  out=out, **kwargs)\n",
            "/usr/local/lib/python3.7/dist-packages/numpy/core/_methods.py:170: RuntimeWarning: invalid value encountered in double_scalars\n",
            "  ret = ret.dtype.type(ret / rcount)\n"
          ],
          "name": "stderr"
        }
      ]
    },
    {
      "cell_type": "code",
      "metadata": {
        "colab": {
          "base_uri": "https://localhost:8080/",
          "height": 203
        },
        "id": "wrar-UUs5ExQ",
        "outputId": "1c3e7db1-0170-4317-c8e7-204d62cc8011"
      },
      "source": [
        "testData3.head()"
      ],
      "execution_count": 48,
      "outputs": [
        {
          "output_type": "execute_result",
          "data": {
            "text/html": [
              "<div>\n",
              "<style scoped>\n",
              "    .dataframe tbody tr th:only-of-type {\n",
              "        vertical-align: middle;\n",
              "    }\n",
              "\n",
              "    .dataframe tbody tr th {\n",
              "        vertical-align: top;\n",
              "    }\n",
              "\n",
              "    .dataframe thead th {\n",
              "        text-align: right;\n",
              "    }\n",
              "</style>\n",
              "<table border=\"1\" class=\"dataframe\">\n",
              "  <thead>\n",
              "    <tr style=\"text-align: right;\">\n",
              "      <th></th>\n",
              "      <th>userId</th>\n",
              "      <th>movieId</th>\n",
              "      <th>rating</th>\n",
              "      <th>expectedRatings</th>\n",
              "      <th>meanMovieRating</th>\n",
              "      <th>medianMovieRating</th>\n",
              "    </tr>\n",
              "  </thead>\n",
              "  <tbody>\n",
              "    <tr>\n",
              "      <th>158463</th>\n",
              "      <td>6787</td>\n",
              "      <td>594</td>\n",
              "      <td>5.0</td>\n",
              "      <td>4.342730</td>\n",
              "      <td>3.573636</td>\n",
              "      <td>3.5</td>\n",
              "    </tr>\n",
              "    <tr>\n",
              "      <th>228101</th>\n",
              "      <td>9790</td>\n",
              "      <td>158</td>\n",
              "      <td>3.0</td>\n",
              "      <td>3.413915</td>\n",
              "      <td>2.997159</td>\n",
              "      <td>3.0</td>\n",
              "    </tr>\n",
              "    <tr>\n",
              "      <th>116823</th>\n",
              "      <td>5046</td>\n",
              "      <td>233</td>\n",
              "      <td>4.0</td>\n",
              "      <td>3.789079</td>\n",
              "      <td>3.505155</td>\n",
              "      <td>4.0</td>\n",
              "    </tr>\n",
              "    <tr>\n",
              "      <th>61865</th>\n",
              "      <td>2585</td>\n",
              "      <td>223</td>\n",
              "      <td>4.0</td>\n",
              "      <td>4.007886</td>\n",
              "      <td>3.809838</td>\n",
              "      <td>4.0</td>\n",
              "    </tr>\n",
              "    <tr>\n",
              "      <th>41712</th>\n",
              "      <td>1769</td>\n",
              "      <td>924</td>\n",
              "      <td>4.0</td>\n",
              "      <td>3.453498</td>\n",
              "      <td>3.916005</td>\n",
              "      <td>4.0</td>\n",
              "    </tr>\n",
              "  </tbody>\n",
              "</table>\n",
              "</div>"
            ],
            "text/plain": [
              "        userId  movieId  ...  meanMovieRating  medianMovieRating\n",
              "158463    6787      594  ...         3.573636                3.5\n",
              "228101    9790      158  ...         2.997159                3.0\n",
              "116823    5046      233  ...         3.505155                4.0\n",
              "61865     2585      223  ...         3.809838                4.0\n",
              "41712     1769      924  ...         3.916005                4.0\n",
              "\n",
              "[5 rows x 6 columns]"
            ]
          },
          "metadata": {
            "tags": []
          },
          "execution_count": 48
        }
      ]
    },
    {
      "cell_type": "code",
      "metadata": {
        "id": "6x3FK7xq7-XU",
        "colab": {
          "base_uri": "https://localhost:8080/"
        },
        "outputId": "12fb72af-6984-431f-e452-8cfba1e183ed"
      },
      "source": [
        "print(\"Root Mean Squared Error for Mean: \", rmse(testData3['meanMovieRating'], testData3['rating']))\n",
        "print(\"Root Mean Squared Error for Median: \", rmse(testData3['medianMovieRating'], testData3['rating']))"
      ],
      "execution_count": 49,
      "outputs": [
        {
          "output_type": "stream",
          "text": [
            "Root Mean Squared Error for Mean:  0.9526509331826387\n",
            "Root Mean Squared Error for Median:  0.9785488193377829\n"
          ],
          "name": "stdout"
        }
      ]
    },
    {
      "cell_type": "code",
      "metadata": {
        "id": "OnYuKDPX2JLu"
      },
      "source": [
        "testData4 = averageUserRating(testData, ratings)"
      ],
      "execution_count": 50,
      "outputs": []
    },
    {
      "cell_type": "code",
      "metadata": {
        "colab": {
          "base_uri": "https://localhost:8080/",
          "height": 203
        },
        "id": "WZ3cTr6h3ctc",
        "outputId": "79dda8a3-ed4d-467a-aace-adac062c54ce"
      },
      "source": [
        "testData4.head()"
      ],
      "execution_count": 51,
      "outputs": [
        {
          "output_type": "execute_result",
          "data": {
            "text/html": [
              "<div>\n",
              "<style scoped>\n",
              "    .dataframe tbody tr th:only-of-type {\n",
              "        vertical-align: middle;\n",
              "    }\n",
              "\n",
              "    .dataframe tbody tr th {\n",
              "        vertical-align: top;\n",
              "    }\n",
              "\n",
              "    .dataframe thead th {\n",
              "        text-align: right;\n",
              "    }\n",
              "</style>\n",
              "<table border=\"1\" class=\"dataframe\">\n",
              "  <thead>\n",
              "    <tr style=\"text-align: right;\">\n",
              "      <th></th>\n",
              "      <th>userId</th>\n",
              "      <th>movieId</th>\n",
              "      <th>rating</th>\n",
              "      <th>expectedRatings</th>\n",
              "      <th>meanMovieRating</th>\n",
              "      <th>medianMovieRating</th>\n",
              "      <th>meanUserRating</th>\n",
              "      <th>medianUserRating</th>\n",
              "    </tr>\n",
              "  </thead>\n",
              "  <tbody>\n",
              "    <tr>\n",
              "      <th>158463</th>\n",
              "      <td>6787</td>\n",
              "      <td>594</td>\n",
              "      <td>5.0</td>\n",
              "      <td>4.342730</td>\n",
              "      <td>3.573636</td>\n",
              "      <td>3.5</td>\n",
              "      <td>4.540541</td>\n",
              "      <td>5.0</td>\n",
              "    </tr>\n",
              "    <tr>\n",
              "      <th>228101</th>\n",
              "      <td>9790</td>\n",
              "      <td>158</td>\n",
              "      <td>3.0</td>\n",
              "      <td>3.413915</td>\n",
              "      <td>2.997159</td>\n",
              "      <td>3.0</td>\n",
              "      <td>3.369048</td>\n",
              "      <td>3.0</td>\n",
              "    </tr>\n",
              "    <tr>\n",
              "      <th>116823</th>\n",
              "      <td>5046</td>\n",
              "      <td>233</td>\n",
              "      <td>4.0</td>\n",
              "      <td>3.789079</td>\n",
              "      <td>3.505155</td>\n",
              "      <td>4.0</td>\n",
              "      <td>3.876923</td>\n",
              "      <td>4.0</td>\n",
              "    </tr>\n",
              "    <tr>\n",
              "      <th>61865</th>\n",
              "      <td>2585</td>\n",
              "      <td>223</td>\n",
              "      <td>4.0</td>\n",
              "      <td>4.007886</td>\n",
              "      <td>3.809838</td>\n",
              "      <td>4.0</td>\n",
              "      <td>4.080645</td>\n",
              "      <td>4.0</td>\n",
              "    </tr>\n",
              "    <tr>\n",
              "      <th>41712</th>\n",
              "      <td>1769</td>\n",
              "      <td>924</td>\n",
              "      <td>4.0</td>\n",
              "      <td>3.453498</td>\n",
              "      <td>3.916005</td>\n",
              "      <td>4.0</td>\n",
              "      <td>3.700000</td>\n",
              "      <td>4.0</td>\n",
              "    </tr>\n",
              "  </tbody>\n",
              "</table>\n",
              "</div>"
            ],
            "text/plain": [
              "        userId  movieId  ...  meanUserRating  medianUserRating\n",
              "158463    6787      594  ...        4.540541               5.0\n",
              "228101    9790      158  ...        3.369048               3.0\n",
              "116823    5046      233  ...        3.876923               4.0\n",
              "61865     2585      223  ...        4.080645               4.0\n",
              "41712     1769      924  ...        3.700000               4.0\n",
              "\n",
              "[5 rows x 8 columns]"
            ]
          },
          "metadata": {
            "tags": []
          },
          "execution_count": 51
        }
      ]
    },
    {
      "cell_type": "code",
      "metadata": {
        "colab": {
          "base_uri": "https://localhost:8080/"
        },
        "id": "i8Wsy2dO3loS",
        "outputId": "cc734a17-7899-4c89-cac0-341db16ac591"
      },
      "source": [
        "print(\"Root Mean Squared Error for Mean: \", rmse(testData4['meanUserRating'], testData4['rating']))\n",
        "print(\"Root Mean Squared Error for Median: \", rmse(testData4['medianUserRating'], testData4['rating']))"
      ],
      "execution_count": 52,
      "outputs": [
        {
          "output_type": "stream",
          "text": [
            "Root Mean Squared Error for Mean:  0.9616499242845296\n",
            "Root Mean Squared Error for Median:  1.0099218947792734\n"
          ],
          "name": "stdout"
        }
      ]
    },
    {
      "cell_type": "code",
      "metadata": {
        "id": "kVwox4dC3uYs"
      },
      "source": [
        "def testNumComponents(movieTags, comp, testData, ratingsMatrix):\n",
        "  W, H = lb.decompose.decompose(movieTags,n_components=comp)\n",
        "  normalizedH = normalize(H, norm='l1', axis=0)\n",
        "  templateRatings = generateTemplateRatingsMatrix(ratingsMatrix, H)\n",
        "  testData2 = calcRatings(testData, normalizedH, templateRatings)\n",
        "  return rmse(testData2['expectedRatings'], testData2['rating'])"
      ],
      "execution_count": 53,
      "outputs": []
    },
    {
      "cell_type": "code",
      "metadata": {
        "id": "zOUaL2NG6ldW",
        "colab": {
          "base_uri": "https://localhost:8080/"
        },
        "outputId": "a82cfcd4-0b5a-4d2f-af4e-859b126a3b17"
      },
      "source": [
        "# comps = [10,30,50,100,200,500,1000]\n",
        "comps = [5, 10, 30, 50, 100, 200, 500]\n",
        "\n",
        "for c in comps:\n",
        "  print(c, testNumComponents(movieTags, c, testData, ratings))"
      ],
      "execution_count": 54,
      "outputs": [
        {
          "output_type": "stream",
          "text": [
            "5 0.9611687296734931\n",
            "10 0.9625155803584626\n",
            "30 0.9630995675624542\n",
            "50 0.9642242020411135\n",
            "100 0.9637442644732249\n",
            "200 0.9625410742448225\n",
            "500 0.9612066198244944\n"
          ],
          "name": "stdout"
        }
      ]
    },
    {
      "cell_type": "markdown",
      "metadata": {
        "id": "DKEptHLR4k1y"
      },
      "source": [
        "After testing, we found that the number of components doesn't impact the RMSE significantly, but the computation time does increase significantly as the number of components increases."
      ]
    },
    {
      "cell_type": "markdown",
      "metadata": {
        "id": "bmgX3q9die2y"
      },
      "source": [
        "## Testing Improvements"
      ]
    },
    {
      "cell_type": "code",
      "metadata": {
        "id": "jgu9MMxNiKZ1",
        "colab": {
          "base_uri": "https://localhost:8080/"
        },
        "outputId": "423b6597-6608-4d64-fc58-cbc92d6a24e7"
      },
      "source": [
        "movieTags.shape"
      ],
      "execution_count": 55,
      "outputs": [
        {
          "output_type": "execute_result",
          "data": {
            "text/plain": [
              "(1128, 1024)"
            ]
          },
          "metadata": {
            "tags": []
          },
          "execution_count": 55
        }
      ]
    },
    {
      "cell_type": "code",
      "metadata": {
        "id": "-S6Yt6bYih-T"
      },
      "source": [
        "sumrelevance = np.sum(movieTags, axis=1)"
      ],
      "execution_count": 56,
      "outputs": []
    },
    {
      "cell_type": "markdown",
      "metadata": {
        "id": "izpJQ8ct4100"
      },
      "source": [
        "Let's try filtering the tags. If the total relevance of the tags is under a certain amount, we will discount that tag."
      ]
    },
    {
      "cell_type": "code",
      "metadata": {
        "id": "sPT6R3Xui0tx"
      },
      "source": [
        "copyMovieTags = movieTags\n",
        "for tagIndex in range(len(sumrelevance)):\n",
        "  if sumrelevance[tagIndex] < 100:\n",
        "    copyMovieTags[tagIndex,:] = 0"
      ],
      "execution_count": 57,
      "outputs": []
    },
    {
      "cell_type": "code",
      "metadata": {
        "id": "8kJYw-NIkq8O"
      },
      "source": [
        "W2, H2 = lb.decompose.decompose(copyMovieTags,n_components=50)"
      ],
      "execution_count": 58,
      "outputs": []
    },
    {
      "cell_type": "code",
      "metadata": {
        "id": "sidcpf9ClBHg"
      },
      "source": [
        "normalizedH2 = normalize(H2, norm='l1', axis=0)\n",
        "templateRatings2 = generateTemplateRatingsMatrix(ratings, H2)\n",
        "testData3 = calcRatings(testData, normalizedH2, templateRatings2)"
      ],
      "execution_count": 59,
      "outputs": []
    },
    {
      "cell_type": "code",
      "metadata": {
        "id": "t3wRK3hplbHz",
        "colab": {
          "base_uri": "https://localhost:8080/"
        },
        "outputId": "84893161-7e87-4b89-99a1-2e9268be1cfd"
      },
      "source": [
        "rmse(testData3['expectedRatings'], testData3['rating'])"
      ],
      "execution_count": 60,
      "outputs": [
        {
          "output_type": "execute_result",
          "data": {
            "text/plain": [
              "0.9624326645384609"
            ]
          },
          "metadata": {
            "tags": []
          },
          "execution_count": 60
        }
      ]
    },
    {
      "cell_type": "code",
      "metadata": {
        "id": "UEFZbucLlhWc",
        "colab": {
          "base_uri": "https://localhost:8080/"
        },
        "outputId": "cea596f4-f8d7-41c9-fe18-b9104d50cf96"
      },
      "source": [
        "W3, H3 = lb.decompose.decompose(movieTags,n_components=50)\n",
        "normalizedH3 = normalize(H3, norm='l1', axis=0)\n",
        "templateRatings3 = generateTemplateRatingsMatrix(ratings, H3)\n",
        "testData4 = calcRatings(testData, normalizedH3, templateRatings3, maxGenre = True)\n",
        "rmse(testData4['expectedRatings'], testData4['rating'])"
      ],
      "execution_count": 61,
      "outputs": [
        {
          "output_type": "execute_result",
          "data": {
            "text/plain": [
              "0.9884547945091673"
            ]
          },
          "metadata": {
            "tags": []
          },
          "execution_count": 61
        }
      ]
    },
    {
      "cell_type": "code",
      "metadata": {
        "id": "Wpft8KVysyR3",
        "colab": {
          "base_uri": "https://localhost:8080/"
        },
        "outputId": "52df8d24-c108-46bf-9408-3c01c6ee4cf7"
      },
      "source": [
        "mae(testData4['expectedRatings'], testData4['rating'])"
      ],
      "execution_count": 62,
      "outputs": [
        {
          "output_type": "execute_result",
          "data": {
            "text/plain": [
              "0.7789317070005907"
            ]
          },
          "metadata": {
            "tags": []
          },
          "execution_count": 62
        }
      ]
    },
    {
      "cell_type": "code",
      "metadata": {
        "id": "1FNqNbOvn83_",
        "colab": {
          "base_uri": "https://localhost:8080/"
        },
        "outputId": "197b4ee4-b187-44bd-9751-16b242a008e6"
      },
      "source": [
        "rmse(testData2['expectedRatings'], testData2['rating'])"
      ],
      "execution_count": 63,
      "outputs": [
        {
          "output_type": "execute_result",
          "data": {
            "text/plain": [
              "0.9884547945091673"
            ]
          },
          "metadata": {
            "tags": []
          },
          "execution_count": 63
        }
      ]
    },
    {
      "cell_type": "code",
      "metadata": {
        "id": "qv6jSlNkoqwI",
        "colab": {
          "base_uri": "https://localhost:8080/"
        },
        "outputId": "02afaf1f-4d47-4780-a974-55f72ed37b8b"
      },
      "source": [
        "mae(testData2['expectedRatings'], testData2['rating'])"
      ],
      "execution_count": 64,
      "outputs": [
        {
          "output_type": "execute_result",
          "data": {
            "text/plain": [
              "0.7789317070005907"
            ]
          },
          "metadata": {
            "tags": []
          },
          "execution_count": 64
        }
      ]
    },
    {
      "cell_type": "code",
      "metadata": {
        "colab": {
          "base_uri": "https://localhost:8080/"
        },
        "id": "MfXWzEXfpyHj",
        "outputId": "419ffde9-46e7-47a9-a0fa-bffbf187d9b5"
      },
      "source": [
        "print(\"Root Mean Squared Error for Mean: \", rmse(testData3['meanMovieRating'], testData3['rating']))\n",
        "print(\"Root Mean Squared Error for Median: \", rmse(testData3['medianMovieRating'], testData3['rating']))"
      ],
      "execution_count": 65,
      "outputs": [
        {
          "output_type": "stream",
          "text": [
            "Root Mean Squared Error for Mean:  0.9526509331826387\n",
            "Root Mean Squared Error for Median:  0.9785488193377829\n"
          ],
          "name": "stdout"
        }
      ]
    },
    {
      "cell_type": "code",
      "metadata": {
        "colab": {
          "base_uri": "https://localhost:8080/"
        },
        "id": "pHSZkEE4qAt7",
        "outputId": "0b6cdbc7-5041-41c4-c491-7641320e9ebf"
      },
      "source": [
        "print(\"Mean Absolute Error for Mean: \", mae(testData3['meanMovieRating'], testData3['rating']))\n",
        "print(\"Mean Absolute Error for Median: \", mae(testData3['medianMovieRating'], testData3['rating']))"
      ],
      "execution_count": 66,
      "outputs": [
        {
          "output_type": "stream",
          "text": [
            "Mean Absolute Error for Mean:  0.7454609196266032\n",
            "Mean Absolute Error for Median:  0.7203595664697554\n"
          ],
          "name": "stdout"
        }
      ]
    },
    {
      "cell_type": "markdown",
      "metadata": {
        "id": "iT2_fBDMuUhP"
      },
      "source": [
        "Look at the other movies the user has reviewed, and predict that rating.\n",
        "\n",
        "Round up or down to the nearest half star based on whether the movie/user mean/median are higher or lower than the current predicted rating."
      ]
    },
    {
      "cell_type": "code",
      "metadata": {
        "id": "aNVVcoqDqhdA"
      },
      "source": [
        "# movie median\n",
        "# multiply by 2 and round to an int (up or down based on median) then divide by 2 to get a 0/0.5 rounding\n"
      ],
      "execution_count": 67,
      "outputs": []
    },
    {
      "cell_type": "code",
      "metadata": {
        "id": "bRJsNeA1vT95"
      },
      "source": [
        "def roundedRating(data):\n",
        "  '''\n",
        "  Calculate the rounded movie rating based on the movie mean rating for all movies\n",
        "\n",
        "  Arguments:\n",
        "  data -- the dataframe with the testing data, movie mean, and expected ratings columns\n",
        "\n",
        "  Returns:\n",
        "  data -- the modified dataframe with a column added for the new rounded rating expectation\n",
        "  '''\n",
        "  # add column to data for rounded rating\n",
        "  roundedRating = []\n",
        "\n",
        "  # calculate the rounded ratings for each movie\n",
        "  for _, entry in data.iterrows():\n",
        "    mean = entry['meanMovieRating']\n",
        "    predictedRating = entry['expectedRatings']\n",
        "    if mean > predictedRating:\n",
        "      roundedRating.append(int(2*predictedRating + 1)/2)\n",
        "    else:\n",
        "      roundedRating.append(int(2*predictedRating)/2)\n",
        "\n",
        "  data['roundedRating'] = roundedRating\n",
        "\n",
        "  return data"
      ],
      "execution_count": 68,
      "outputs": []
    },
    {
      "cell_type": "code",
      "metadata": {
        "id": "pYBjeNtKvS85"
      },
      "source": [
        "def evaluate(movieTags, ratings, testData, maxGenre=False, n_components=50, compare='expectedRatings'):\n",
        "  '''wrapper function'''\n",
        "  W, H = lb.decompose.decompose(movieTags,n_components=n_components)\n",
        "  normalizedH = normalize(H, norm='l1', axis=0)\n",
        "  templateRatings = generateTemplateRatingsMatrix(ratings, H)\n",
        "  testData = calcRatings(testData, normalizedH, templateRatings, maxGenre = maxGenre)\n",
        "  return mae(testData[compare], testData['rating'])"
      ],
      "execution_count": 69,
      "outputs": []
    },
    {
      "cell_type": "code",
      "metadata": {
        "colab": {
          "base_uri": "https://localhost:8080/",
          "height": 418
        },
        "id": "l_-KFcAzxw67",
        "outputId": "471217af-e2d6-4888-f22c-1b39678f4e09"
      },
      "source": [
        "roundedRating(testData4)"
      ],
      "execution_count": 70,
      "outputs": [
        {
          "output_type": "execute_result",
          "data": {
            "text/html": [
              "<div>\n",
              "<style scoped>\n",
              "    .dataframe tbody tr th:only-of-type {\n",
              "        vertical-align: middle;\n",
              "    }\n",
              "\n",
              "    .dataframe tbody tr th {\n",
              "        vertical-align: top;\n",
              "    }\n",
              "\n",
              "    .dataframe thead th {\n",
              "        text-align: right;\n",
              "    }\n",
              "</style>\n",
              "<table border=\"1\" class=\"dataframe\">\n",
              "  <thead>\n",
              "    <tr style=\"text-align: right;\">\n",
              "      <th></th>\n",
              "      <th>userId</th>\n",
              "      <th>movieId</th>\n",
              "      <th>rating</th>\n",
              "      <th>expectedRatings</th>\n",
              "      <th>meanMovieRating</th>\n",
              "      <th>medianMovieRating</th>\n",
              "      <th>meanUserRating</th>\n",
              "      <th>medianUserRating</th>\n",
              "      <th>roundedRating</th>\n",
              "    </tr>\n",
              "  </thead>\n",
              "  <tbody>\n",
              "    <tr>\n",
              "      <th>158463</th>\n",
              "      <td>6787</td>\n",
              "      <td>594</td>\n",
              "      <td>5.0</td>\n",
              "      <td>4.212021</td>\n",
              "      <td>3.573636</td>\n",
              "      <td>3.5</td>\n",
              "      <td>4.540541</td>\n",
              "      <td>5.0</td>\n",
              "      <td>4.0</td>\n",
              "    </tr>\n",
              "    <tr>\n",
              "      <th>228101</th>\n",
              "      <td>9790</td>\n",
              "      <td>158</td>\n",
              "      <td>3.0</td>\n",
              "      <td>3.229169</td>\n",
              "      <td>2.997159</td>\n",
              "      <td>3.0</td>\n",
              "      <td>3.369048</td>\n",
              "      <td>3.0</td>\n",
              "      <td>3.0</td>\n",
              "    </tr>\n",
              "    <tr>\n",
              "      <th>116823</th>\n",
              "      <td>5046</td>\n",
              "      <td>233</td>\n",
              "      <td>4.0</td>\n",
              "      <td>3.991181</td>\n",
              "      <td>3.505155</td>\n",
              "      <td>4.0</td>\n",
              "      <td>3.876923</td>\n",
              "      <td>4.0</td>\n",
              "      <td>3.5</td>\n",
              "    </tr>\n",
              "    <tr>\n",
              "      <th>61865</th>\n",
              "      <td>2585</td>\n",
              "      <td>223</td>\n",
              "      <td>4.0</td>\n",
              "      <td>4.136659</td>\n",
              "      <td>3.809838</td>\n",
              "      <td>4.0</td>\n",
              "      <td>4.080645</td>\n",
              "      <td>4.0</td>\n",
              "      <td>4.0</td>\n",
              "    </tr>\n",
              "    <tr>\n",
              "      <th>41712</th>\n",
              "      <td>1769</td>\n",
              "      <td>924</td>\n",
              "      <td>4.0</td>\n",
              "      <td>3.339132</td>\n",
              "      <td>3.916005</td>\n",
              "      <td>4.0</td>\n",
              "      <td>3.700000</td>\n",
              "      <td>4.0</td>\n",
              "      <td>3.5</td>\n",
              "    </tr>\n",
              "    <tr>\n",
              "      <th>...</th>\n",
              "      <td>...</td>\n",
              "      <td>...</td>\n",
              "      <td>...</td>\n",
              "      <td>...</td>\n",
              "      <td>...</td>\n",
              "      <td>...</td>\n",
              "      <td>...</td>\n",
              "      <td>...</td>\n",
              "      <td>...</td>\n",
              "    </tr>\n",
              "    <tr>\n",
              "      <th>138526</th>\n",
              "      <td>6019</td>\n",
              "      <td>62</td>\n",
              "      <td>5.0</td>\n",
              "      <td>3.996141</td>\n",
              "      <td>3.654742</td>\n",
              "      <td>4.0</td>\n",
              "      <td>3.909091</td>\n",
              "      <td>4.0</td>\n",
              "      <td>3.5</td>\n",
              "    </tr>\n",
              "    <tr>\n",
              "      <th>29908</th>\n",
              "      <td>1235</td>\n",
              "      <td>36</td>\n",
              "      <td>5.0</td>\n",
              "      <td>4.364619</td>\n",
              "      <td>3.880655</td>\n",
              "      <td>4.0</td>\n",
              "      <td>3.250000</td>\n",
              "      <td>4.0</td>\n",
              "      <td>4.0</td>\n",
              "    </tr>\n",
              "    <tr>\n",
              "      <th>242407</th>\n",
              "      <td>10379</td>\n",
              "      <td>372</td>\n",
              "      <td>4.0</td>\n",
              "      <td>3.783601</td>\n",
              "      <td>3.318376</td>\n",
              "      <td>3.0</td>\n",
              "      <td>3.812245</td>\n",
              "      <td>4.0</td>\n",
              "      <td>3.5</td>\n",
              "    </tr>\n",
              "    <tr>\n",
              "      <th>1911</th>\n",
              "      <td>79</td>\n",
              "      <td>223</td>\n",
              "      <td>4.0</td>\n",
              "      <td>4.444595</td>\n",
              "      <td>3.809838</td>\n",
              "      <td>4.0</td>\n",
              "      <td>4.275362</td>\n",
              "      <td>4.0</td>\n",
              "      <td>4.0</td>\n",
              "    </tr>\n",
              "    <tr>\n",
              "      <th>172928</th>\n",
              "      <td>7449</td>\n",
              "      <td>434</td>\n",
              "      <td>3.0</td>\n",
              "      <td>2.769127</td>\n",
              "      <td>3.053219</td>\n",
              "      <td>3.0</td>\n",
              "      <td>3.272727</td>\n",
              "      <td>3.0</td>\n",
              "      <td>3.0</td>\n",
              "    </tr>\n",
              "  </tbody>\n",
              "</table>\n",
              "<p>40984 rows × 9 columns</p>\n",
              "</div>"
            ],
            "text/plain": [
              "        userId  movieId  ...  medianUserRating  roundedRating\n",
              "158463    6787      594  ...               5.0            4.0\n",
              "228101    9790      158  ...               3.0            3.0\n",
              "116823    5046      233  ...               4.0            3.5\n",
              "61865     2585      223  ...               4.0            4.0\n",
              "41712     1769      924  ...               4.0            3.5\n",
              "...        ...      ...  ...               ...            ...\n",
              "138526    6019       62  ...               4.0            3.5\n",
              "29908     1235       36  ...               4.0            4.0\n",
              "242407   10379      372  ...               4.0            3.5\n",
              "1911        79      223  ...               4.0            4.0\n",
              "172928    7449      434  ...               3.0            3.0\n",
              "\n",
              "[40984 rows x 9 columns]"
            ]
          },
          "metadata": {
            "tags": []
          },
          "execution_count": 70
        }
      ]
    },
    {
      "cell_type": "code",
      "metadata": {
        "colab": {
          "base_uri": "https://localhost:8080/"
        },
        "id": "rR_I0PLzyHrp",
        "outputId": "da1ad2c7-b046-4f1d-be6e-b834d479b466"
      },
      "source": [
        "evaluate(movieTags, ratings, testData4, compare='roundedRating')"
      ],
      "execution_count": 71,
      "outputs": [
        {
          "output_type": "execute_result",
          "data": {
            "text/plain": [
              "0.7309193831739216"
            ]
          },
          "metadata": {
            "tags": []
          },
          "execution_count": 71
        }
      ]
    },
    {
      "cell_type": "code",
      "metadata": {
        "id": "1ml5wg6fzTcg",
        "colab": {
          "base_uri": "https://localhost:8080/",
          "height": 203
        },
        "outputId": "c094d02b-7fa2-424e-e564-8bb0886ae857"
      },
      "source": [
        "testData.head()"
      ],
      "execution_count": 72,
      "outputs": [
        {
          "output_type": "execute_result",
          "data": {
            "text/html": [
              "<div>\n",
              "<style scoped>\n",
              "    .dataframe tbody tr th:only-of-type {\n",
              "        vertical-align: middle;\n",
              "    }\n",
              "\n",
              "    .dataframe tbody tr th {\n",
              "        vertical-align: top;\n",
              "    }\n",
              "\n",
              "    .dataframe thead th {\n",
              "        text-align: right;\n",
              "    }\n",
              "</style>\n",
              "<table border=\"1\" class=\"dataframe\">\n",
              "  <thead>\n",
              "    <tr style=\"text-align: right;\">\n",
              "      <th></th>\n",
              "      <th>userId</th>\n",
              "      <th>movieId</th>\n",
              "      <th>rating</th>\n",
              "      <th>expectedRatings</th>\n",
              "      <th>meanMovieRating</th>\n",
              "      <th>medianMovieRating</th>\n",
              "      <th>meanUserRating</th>\n",
              "      <th>medianUserRating</th>\n",
              "      <th>roundedRating</th>\n",
              "    </tr>\n",
              "  </thead>\n",
              "  <tbody>\n",
              "    <tr>\n",
              "      <th>158463</th>\n",
              "      <td>6787</td>\n",
              "      <td>594</td>\n",
              "      <td>5.0</td>\n",
              "      <td>4.406296</td>\n",
              "      <td>3.573636</td>\n",
              "      <td>3.5</td>\n",
              "      <td>4.540541</td>\n",
              "      <td>5.0</td>\n",
              "      <td>4.0</td>\n",
              "    </tr>\n",
              "    <tr>\n",
              "      <th>228101</th>\n",
              "      <td>9790</td>\n",
              "      <td>158</td>\n",
              "      <td>3.0</td>\n",
              "      <td>3.406346</td>\n",
              "      <td>2.997159</td>\n",
              "      <td>3.0</td>\n",
              "      <td>3.369048</td>\n",
              "      <td>3.0</td>\n",
              "      <td>3.0</td>\n",
              "    </tr>\n",
              "    <tr>\n",
              "      <th>116823</th>\n",
              "      <td>5046</td>\n",
              "      <td>233</td>\n",
              "      <td>4.0</td>\n",
              "      <td>3.905758</td>\n",
              "      <td>3.505155</td>\n",
              "      <td>4.0</td>\n",
              "      <td>3.876923</td>\n",
              "      <td>4.0</td>\n",
              "      <td>3.5</td>\n",
              "    </tr>\n",
              "    <tr>\n",
              "      <th>61865</th>\n",
              "      <td>2585</td>\n",
              "      <td>223</td>\n",
              "      <td>4.0</td>\n",
              "      <td>4.004921</td>\n",
              "      <td>3.809838</td>\n",
              "      <td>4.0</td>\n",
              "      <td>4.080645</td>\n",
              "      <td>4.0</td>\n",
              "      <td>4.0</td>\n",
              "    </tr>\n",
              "    <tr>\n",
              "      <th>41712</th>\n",
              "      <td>1769</td>\n",
              "      <td>924</td>\n",
              "      <td>4.0</td>\n",
              "      <td>3.514069</td>\n",
              "      <td>3.916005</td>\n",
              "      <td>4.0</td>\n",
              "      <td>3.700000</td>\n",
              "      <td>4.0</td>\n",
              "      <td>3.5</td>\n",
              "    </tr>\n",
              "  </tbody>\n",
              "</table>\n",
              "</div>"
            ],
            "text/plain": [
              "        userId  movieId  ...  medianUserRating  roundedRating\n",
              "158463    6787      594  ...               5.0            4.0\n",
              "228101    9790      158  ...               3.0            3.0\n",
              "116823    5046      233  ...               4.0            3.5\n",
              "61865     2585      223  ...               4.0            4.0\n",
              "41712     1769      924  ...               4.0            3.5\n",
              "\n",
              "[5 rows x 9 columns]"
            ]
          },
          "metadata": {
            "tags": []
          },
          "execution_count": 72
        }
      ]
    },
    {
      "cell_type": "code",
      "metadata": {
        "colab": {
          "base_uri": "https://localhost:8080/"
        },
        "id": "Y5UynL9fywX2",
        "outputId": "5933c38e-6891-40a1-f1ea-13dff064cbf5"
      },
      "source": [
        "rmse(testData['roundedRating'], testData['rating'])"
      ],
      "execution_count": 73,
      "outputs": [
        {
          "output_type": "execute_result",
          "data": {
            "text/plain": [
              "0.9488813183916831"
            ]
          },
          "metadata": {
            "tags": []
          },
          "execution_count": 73
        }
      ]
    },
    {
      "cell_type": "markdown",
      "metadata": {
        "id": "hreQbNX66ZUj"
      },
      "source": [
        "## Results Exploration"
      ]
    },
    {
      "cell_type": "markdown",
      "metadata": {
        "id": "BjI1tjvH6jKd"
      },
      "source": [
        "Let's test the number of components."
      ]
    },
    {
      "cell_type": "code",
      "metadata": {
        "id": "zqsPcARm7VGr"
      },
      "source": [
        "def testNumComponents(movieTags, comp, testData, ratingsMatrix):\n",
        "  W, H = lb.decompose.decompose(movieTags,n_components=comp)\n",
        "  normalizedH = normalize(H, norm='l1', axis=0)\n",
        "  templateRatings = generateTemplateRatingsMatrix(ratingsMatrix, H)\n",
        "  testData2 = calcRatings(testData, normalizedH, templateRatings)\n",
        "  return rmse(testData2['expectedRatings'], testData2['rating'])"
      ],
      "execution_count": 74,
      "outputs": []
    },
    {
      "cell_type": "code",
      "metadata": {
        "id": "UP6pMldM7DJP",
        "colab": {
          "base_uri": "https://localhost:8080/"
        },
        "outputId": "43929f52-dac5-4e44-a92e-893310cef5dc"
      },
      "source": [
        "# comps = [10,30,50,100,200,500,1000]\n",
        "comps = [5, 10,30,50,100,200,500, 1000]\n",
        "\n",
        "for c in comps:\n",
        "  print(c, testNumComponents(movieTags, c, testData, ratings))"
      ],
      "execution_count": 75,
      "outputs": [
        {
          "output_type": "stream",
          "text": [
            "5 0.9611872883767772\n",
            "10 0.9614321453854494\n",
            "30 0.9624645492238606\n",
            "50 0.9625675436250389\n",
            "100 0.9614406220103543\n",
            "200 0.9615206977122184\n",
            "500 0.9608290386595711\n",
            "1000 0.9608290386595674\n"
          ],
          "name": "stdout"
        }
      ]
    },
    {
      "cell_type": "markdown",
      "metadata": {
        "id": "maVbgNiGbDh9"
      },
      "source": [
        "Let's see what a \"genre fingerprint\" looks like for some movie."
      ]
    },
    {
      "cell_type": "code",
      "metadata": {
        "id": "MPx3GcMqzWR1",
        "colab": {
          "base_uri": "https://localhost:8080/",
          "height": 282
        },
        "outputId": "41cc7c3b-df12-4ef9-8f7d-d16949bcb83a"
      },
      "source": [
        "plt.bar(np.arange(0, 50), H3[:,0])"
      ],
      "execution_count": 76,
      "outputs": [
        {
          "output_type": "execute_result",
          "data": {
            "text/plain": [
              "<BarContainer object of 50 artists>"
            ]
          },
          "metadata": {
            "tags": []
          },
          "execution_count": 76
        },
        {
          "output_type": "display_data",
          "data": {
            "image/png": "[encoded data removed]",
            "text/plain": [
              "<Figure size 432x288 with 1 Axes>"
            ]
          },
          "metadata": {
            "tags": [],
            "needs_background": "light"
          }
        }
      ]
    },
    {
      "cell_type": "code",
      "metadata": {
        "id": "AM1LhxHog3xy",
        "colab": {
          "base_uri": "https://localhost:8080/"
        },
        "outputId": "6540cf63-917e-4124-db59-7990b4e7c4e5"
      },
      "source": [
        "templateRatings.shape"
      ],
      "execution_count": 77,
      "outputs": [
        {
          "output_type": "execute_result",
          "data": {
            "text/plain": [
              "(50, 10532)"
            ]
          },
          "metadata": {
            "tags": []
          },
          "execution_count": 77
        }
      ]
    },
    {
      "cell_type": "code",
      "metadata": {
        "id": "812QQ1JFgV8s",
        "colab": {
          "base_uri": "https://localhost:8080/",
          "height": 295
        },
        "outputId": "5cd50d13-b8b7-4748-c4d9-60d5dd5e7bd4"
      },
      "source": [
        "bestIndex = np.abs(testData['roundedRating'] - testData['rating']).argmin()\n",
        "movieCol = np.array(testData['movieId'])\n",
        "bestMovieIndex = movieCol[bestIndex] - 1\n",
        "plt.bar(np.arange(0, 50), normalizedH3[:,bestMovieIndex]);\n",
        "plt.title(\"Genre Fingerprint for Best Prediction\");\n",
        "plt.xlabel(\"Genres\");\n",
        "plt.ylabel(\"Normalized Relevance\");"
      ],
      "execution_count": 78,
      "outputs": [
        {
          "output_type": "display_data",
          "data": {
            "image/png": "[encoded data removed]",
            "text/plain": [
              "<Figure size 432x288 with 1 Axes>"
            ]
          },
          "metadata": {
            "tags": [],
            "needs_background": "light"
          }
        }
      ]
    },
    {
      "cell_type": "code",
      "metadata": {
        "id": "DMnkZbO4fnC0",
        "colab": {
          "base_uri": "https://localhost:8080/",
          "height": 265
        },
        "outputId": "724d0e88-5f21-4c89-f2f4-b0c2a6a6812f"
      },
      "source": [
        "# bestIndex = np.abs(testData['roundedRating'] - testData['rating']).argmin()\n",
        "userCol = np.array(testData['userId'])\n",
        "userIndex = userCol[bestIndex] - 1\n",
        "plt.bar(np.arange(0, 50), templateRatings[:,userIndex]);"
      ],
      "execution_count": 79,
      "outputs": [
        {
          "output_type": "display_data",
          "data": {
            "image/png": "[encoded data removed]",
            "text/plain": [
              "<Figure size 432x288 with 1 Axes>"
            ]
          },
          "metadata": {
            "tags": [],
            "needs_background": "light"
          }
        }
      ]
    },
    {
      "cell_type": "markdown",
      "metadata": {
        "id": "x91YW6DIfwMf"
      },
      "source": [
        "There's less noise for the best prediction."
      ]
    },
    {
      "cell_type": "markdown",
      "metadata": {
        "id": "M31ub8Qtb5_T"
      },
      "source": [
        "There are few high genres, and most are in the middle or low, which is good."
      ]
    },
    {
      "cell_type": "code",
      "metadata": {
        "id": "ztBni8FRcVWm",
        "colab": {
          "base_uri": "https://localhost:8080/",
          "height": 295
        },
        "outputId": "02f489e4-5071-4c3e-aefa-092138b9c439"
      },
      "source": [
        "worstIndex = np.abs(testData['roundedRating'] - testData['rating']).argmax()\n",
        "movieCol = np.array(testData['movieId'])\n",
        "worstMovieIndex = movieCol[worstIndex] - 1\n",
        "plt.bar(np.arange(0, 50), normalizedH3[:,worstMovieIndex]);\n",
        "plt.title(\"Genre Fingerprint for Worst Prediction\");\n",
        "plt.xlabel(\"Genres\");\n",
        "plt.ylabel(\"Normalized Relevance\");"
      ],
      "execution_count": 80,
      "outputs": [
        {
          "output_type": "display_data",
          "data": {
            "image/png": "[encoded data removed]",
            "text/plain": [
              "<Figure size 432x288 with 1 Axes>"
            ]
          },
          "metadata": {
            "tags": [],
            "needs_background": "light"
          }
        }
      ]
    },
    {
      "cell_type": "code",
      "metadata": {
        "id": "JOhmQwIYhA_3",
        "colab": {
          "base_uri": "https://localhost:8080/",
          "height": 282
        },
        "outputId": "4a698513-f171-4063-8d72-5c847fc26556"
      },
      "source": [
        "# userCol = np.array(testData['userId'])\n",
        "userIndex = userCol[worstIndex] - 1\n",
        "plt.bar(np.arange(0, 50), templateRatings[:,userIndex])"
      ],
      "execution_count": 81,
      "outputs": [
        {
          "output_type": "execute_result",
          "data": {
            "text/plain": [
              "<BarContainer object of 50 artists>"
            ]
          },
          "metadata": {
            "tags": []
          },
          "execution_count": 81
        },
        {
          "output_type": "display_data",
          "data": {
            "image/png": "[encoded data removed]",
            "text/plain": [
              "<Figure size 432x288 with 1 Axes>"
            ]
          },
          "metadata": {
            "tags": [],
            "needs_background": "light"
          }
        }
      ]
    },
    {
      "cell_type": "markdown",
      "metadata": {
        "id": "fU9lA8WjfZsW"
      },
      "source": [
        "In the worst prediction, we see that the highest value is much lower than the previous random instance."
      ]
    },
    {
      "cell_type": "code",
      "metadata": {
        "id": "egPr2SwgwjA9",
        "colab": {
          "base_uri": "https://localhost:8080/"
        },
        "outputId": "b4a9b7df-8880-43e3-9d5f-9963c65fca49"
      },
      "source": [
        "ratings.shape"
      ],
      "execution_count": 82,
      "outputs": [
        {
          "output_type": "execute_result",
          "data": {
            "text/plain": [
              "(1024, 10532)"
            ]
          },
          "metadata": {
            "tags": []
          },
          "execution_count": 82
        }
      ]
    },
    {
      "cell_type": "code",
      "metadata": {
        "id": "YWKJsAqyvIMl",
        "colab": {
          "base_uri": "https://localhost:8080/",
          "height": 295
        },
        "outputId": "ebe61fd8-96a5-42ab-90d9-0b9c348e91a5"
      },
      "source": [
        "plt.hist(ratings[bestMovieIndex].flatten()[ratings[bestMovieIndex].flatten() != 0], bins=10, rwidth=0.9);\n",
        "plt.title(\"Distribution of Ratings for Good Prediction\");\n",
        "plt.xlabel(\"Rating (out of 5 Stars)\");\n",
        "plt.ylabel(\"Frequency\");"
      ],
      "execution_count": 83,
      "outputs": [
        {
          "output_type": "display_data",
          "data": {
            "image/png": "[encoded data removed]",
            "text/plain": [
              "<Figure size 432x288 with 1 Axes>"
            ]
          },
          "metadata": {
            "tags": [],
            "needs_background": "light"
          }
        }
      ]
    },
    {
      "cell_type": "code",
      "metadata": {
        "id": "3u8TcXlbvT3_",
        "colab": {
          "base_uri": "https://localhost:8080/",
          "height": 295
        },
        "outputId": "2d7a8d65-4f01-4c8a-a1d9-daf7decc6b36"
      },
      "source": [
        "plt.hist(ratings[worstMovieIndex].flatten()[ratings[worstMovieIndex].flatten() != 0], bins=10, rwidth=0.9);\n",
        "plt.title(\"Distribution of Ratings for Bad Prediction\");\n",
        "plt.xlabel(\"Rating (out of 5 Stars)\");\n",
        "plt.ylabel(\"Frequency\");"
      ],
      "execution_count": 84,
      "outputs": [
        {
          "output_type": "display_data",
          "data": {
            "image/png": "[encoded data removed]",
            "text/plain": [
              "<Figure size 432x288 with 1 Axes>"
            ]
          },
          "metadata": {
            "tags": [],
            "needs_background": "light"
          }
        }
      ]
    },
    {
      "cell_type": "code",
      "metadata": {
        "id": "Oc23gutdxKCy",
        "colab": {
          "base_uri": "https://localhost:8080/"
        },
        "outputId": "45419188-0039-40ac-b05f-9e3d4591428f"
      },
      "source": [
        "# worstIndex = np.abs(testData['roundedRating'] - testData['rating']).argmax()\n",
        "# movieCol = np.array(testData['movieId'])\n",
        "# worstMovieIndex = movieCol[worstIndex] - 1\n",
        "print(\"Worst Predicted Rating\", np.array(testData['roundedRating'])[worstIndex])\n",
        "print(\"Actual Rating: \", np.array(testData['rating'])[worstIndex])"
      ],
      "execution_count": 85,
      "outputs": [
        {
          "output_type": "stream",
          "text": [
            "Worst Predicted Rating 4.5\n",
            "Actual Rating:  0.5\n"
          ],
          "name": "stdout"
        }
      ]
    },
    {
      "cell_type": "code",
      "metadata": {
        "id": "pTXB2m0WxaLL",
        "colab": {
          "base_uri": "https://localhost:8080/"
        },
        "outputId": "73eff8ba-5760-4c6b-8904-a3ab4c38a253"
      },
      "source": [
        "print(\"Best Predicted Rating\", np.array(testData['roundedRating'])[bestIndex])\n",
        "print(\"Actual Rating: \", np.array(testData['rating'])[bestIndex])"
      ],
      "execution_count": 86,
      "outputs": [
        {
          "output_type": "stream",
          "text": [
            "Best Predicted Rating 3.0\n",
            "Actual Rating:  3.0\n"
          ],
          "name": "stdout"
        }
      ]
    }
  ]
}